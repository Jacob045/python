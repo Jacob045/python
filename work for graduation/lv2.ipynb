{
 "metadata": {
  "language_info": {
   "codemirror_mode": {
    "name": "ipython",
    "version": 3
   },
   "file_extension": ".py",
   "mimetype": "text/x-python",
   "name": "python",
   "nbconvert_exporter": "python",
   "pygments_lexer": "ipython3",
   "version": "3.8.5-final"
  },
  "orig_nbformat": 2,
  "kernelspec": {
   "name": "python3",
   "display_name": "Python 3.8.5 64-bit (conda)",
   "metadata": {
    "interpreter": {
     "hash": "07efdcd4b820c98a756949507a4d29d7862823915ec7477944641bea022f4f62"
    }
   }
  }
 },
 "nbformat": 4,
 "nbformat_minor": 2,
 "cells": [
  {
   "cell_type": "code",
   "execution_count": null,
   "metadata": {},
   "outputs": [],
   "source": [
    "import numpy as np\n",
    "import matplotlib.pyplot as plt\n",
    "import pandas as pd\n",
    "import print_photo_module\n",
    "#选择文件路径，方便下一步读入\n",
    "plt.rcParams['font.sans-serif']=['SimHei']\n",
    "filepath = r'I:\\Data\\Personal Data\\graduation project\\SACOL\\microwave\\2007\\200705\\2007-05-19_19-16-32_lv2.csv'"
   ]
  },
  {
   "cell_type": "code",
   "execution_count": null,
   "metadata": {},
   "outputs": [],
   "source": [
    "#由文件路径读入数据，初步处理\n",
    "data = pd.read_csv(filepath)\n",
    "photoname_1 = filepath[69:92]\n",
    "parameter = 11\n",
    "photoname = photoname_1 + '-' + str(parameter) + '.png'\n",
    "a = data.loc[data['10']==parameter]\n",
    "Del_columns = data.columns[2:10]\n",
    "a.drop(Del_columns,axis=1,inplace=True)\n",
    "a.drop('Record',axis=1,inplace=True)\n",
    "z = a.iloc[:,1:48].T"
   ]
  },
  {
   "cell_type": "code",
   "execution_count": null,
   "metadata": {},
   "outputs": [],
   "source": [
    "print_photo_module.print_photo(z,a,photoname)"
   ]
  }
 ]
}