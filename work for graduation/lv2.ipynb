{
 "metadata": {
  "language_info": {
   "codemirror_mode": {
    "name": "ipython",
    "version": 3
   },
   "file_extension": ".py",
   "mimetype": "text/x-python",
   "name": "python",
   "nbconvert_exporter": "python",
   "pygments_lexer": "ipython3",
   "version": "3.8.5-final"
  },
  "orig_nbformat": 2,
  "kernelspec": {
   "name": "python3",
   "display_name": "Python 3.8.5 64-bit (conda)",
   "metadata": {
    "interpreter": {
     "hash": "07efdcd4b820c98a756949507a4d29d7862823915ec7477944641bea022f4f62"
    }
   }
  }
 },
 "nbformat": 4,
 "nbformat_minor": 2,
 "cells": [
  {
   "cell_type": "code",
   "execution_count": null,
   "metadata": {},
   "outputs": [],
   "source": [
    "'''\n",
    "    ……_lv0.csv，为仪器硬件的电压数据文件，不用使用\n",
    "    ……_lv1.csv，为仪器亮温数据文件\n",
    "    ……_lv2.csv，为仪器以lv1亮温数据反演获得的大气温度、水汽、相对湿度、液态水廓线数据\n",
    "    由微波辐射计测量得到亮温数据，通过MWR反演得到大气温度、水汽、相对湿度、液态水廓线数据\n",
    "    此数据将作为神经网络的输入端数据\n",
    "'''\n",
    "import numpy as np\n",
    "import matplotlib.pyplot as plt\n",
    "import pandas as pd\n",
    "import print_photo_module\n",
    "#选择文件路径，方便下一步读入\n",
    "plt.rcParams['font.sans-serif']=['SimHei']\n",
    "filepath = r'I:\\Data\\Personal Data\\graduation project\\SACOL\\microwave\\2007\\200706\\2007-06-01_00-02-00_lv2.csv'"
   ]
  },
  {
   "cell_type": "code",
   "execution_count": null,
   "metadata": {},
   "outputs": [],
   "source": [
    "#由文件路径读入数据，初步处理\n",
    "data = pd.read_csv(filepath)\n",
    "photoname_1 = filepath[69:92]\n",
    "parameter = 11\n",
    "photoname = photoname_1 + '-' + str(parameter) + '.png'\n",
    "a = data.loc[data['10']==parameter]\n",
    "Del_columns = data.columns[2:10]\n",
    "a.drop(Del_columns,axis=1,inplace=True)\n",
    "a.drop('Record',axis=1,inplace=True)\n",
    "z = a.iloc[:,1:48].T"
   ]
  },
  {
   "cell_type": "code",
   "execution_count": null,
   "metadata": {},
   "outputs": [],
   "source": [
    "print_photo_module.print_photo(z,a,photoname)"
   ]
  },
  {
   "cell_type": "code",
   "execution_count": null,
   "metadata": {},
   "outputs": [],
   "source": []
  }
 ]
}