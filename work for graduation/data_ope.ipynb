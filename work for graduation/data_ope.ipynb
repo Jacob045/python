{
 "metadata": {
  "language_info": {
   "codemirror_mode": {
    "name": "ipython",
    "version": 3
   },
   "file_extension": ".py",
   "mimetype": "text/x-python",
   "name": "python",
   "nbconvert_exporter": "python",
   "pygments_lexer": "ipython3",
   "version": "3.8.5-final"
  },
  "orig_nbformat": 2,
  "kernelspec": {
   "name": "python3",
   "display_name": "Python 3.8.5 64-bit (conda)",
   "metadata": {
    "interpreter": {
     "hash": "07efdcd4b820c98a756949507a4d29d7862823915ec7477944641bea022f4f62"
    }
   }
  }
 },
 "nbformat": 4,
 "nbformat_minor": 2,
 "cells": [
  {
   "cell_type": "code",
   "execution_count": null,
   "metadata": {},
   "outputs": [],
   "source": [
    "import pandas as pd\n",
    "import numpy as np\n",
    "import os\n",
    "import sys"
   ]
  },
  {
   "cell_type": "code",
   "execution_count": null,
   "metadata": {},
   "outputs": [],
   "source": [
    "filepath = r'I:\\Data\\Personal Data\\graduation project\\SACOL\\microwave\\2007\\200705\\2007-05-23_00-02-00_lv2.csv'"
   ]
  },
  {
   "cell_type": "code",
   "execution_count": null,
   "metadata": {},
   "outputs": [],
   "source": [
    "data = pd.read_csv(filepath)\n",
    "parameter = 11\n",
    "a = data.loc[data['10']==parameter]\n",
    "Del_columns = data.columns[2:10]\n",
    "a.drop(Del_columns,axis=1,inplace=True)\n",
    "a.drop('Record',axis=1,inplace=True)\n",
    "a = a.iloc[:,0:48]"
   ]
  },
  {
   "cell_type": "code",
   "execution_count": null,
   "metadata": {
    "tags": []
   },
   "outputs": [],
   "source": [
    "# calculate\n",
    "def ouput_mean_tocsv(a,Start_point):\n",
    "    i = 0\n",
    "    Output = a.iloc[0:0,:]\n",
    "    point = 0\n",
    "    while i < len(a['Date/Time']):\n",
    "        if( Start_point in str(a['Date/Time'][i:i+1].values)):\n",
    "            point = i\n",
    "            break\n",
    "        i = i +1\n",
    "    if(point == 0):\n",
    "        return\n",
    "    while((i-point)<60):\n",
    "        Output = Output.append(a.iloc[i:i+1,:],ignore_index=True)\n",
    "        i = i + 1\n",
    "\n",
    "    Mean = Output.mean()\n",
    "    Output = Output.append(Mean,ignore_index=True)\n",
    "    Output.loc[60,'Date/Time'] = 'Mean' + filepath[69:80] + 'T' + str(Start_point[0:2] + Start_point[3:5])\n",
    "    Outpath = filepath[0:80] + 'Time' + str(Start_point[0:2] + Start_point[3:5]) + '.csv'\n",
    "    print(Outpath)\n",
    "    Output.to_csv(Outpath,index=0)"
   ]
  },
  {
   "cell_type": "code",
   "execution_count": null,
   "metadata": {},
   "outputs": [],
   "source": [
    "Search_points = ['07:30','19:30']\n",
    "for Search_point in Search_points:\n",
    "    Start_point = Search_point\n",
    "    ouput_mean_tocsv(a,Search_point)"
   ]
  }
 ]
}