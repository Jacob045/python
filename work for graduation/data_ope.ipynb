{
 "metadata": {
  "language_info": {
   "codemirror_mode": {
    "name": "ipython",
    "version": 3
   },
   "file_extension": ".py",
   "mimetype": "text/x-python",
   "name": "python",
   "nbconvert_exporter": "python",
   "pygments_lexer": "ipython3",
   "version": "3.8.5-final"
  },
  "orig_nbformat": 2,
  "kernelspec": {
   "name": "python3",
   "display_name": "Python 3",
   "language": "python"
  }
 },
 "nbformat": 4,
 "nbformat_minor": 2,
 "cells": [
  {
   "cell_type": "code",
   "execution_count": 1,
   "metadata": {},
   "outputs": [],
   "source": [
    "import pandas as pd\n",
    "\n",
    "filepath = r'I:\\Data\\Personal Data\\graduation project\\SACOL\\microwave\\2007\\200705\\2007-05-19_19-16-32_lv2.csv'"
   ]
  },
  {
   "cell_type": "code",
   "execution_count": 4,
   "metadata": {},
   "outputs": [],
   "source": [
    "data = pd.read_csv(filepath)\n",
    "parameter = 11\n",
    "photoname = filepath[69:92] + '-' + str(parameter) + '.png'\n",
    "a = data.loc[data['10']==parameter]\n",
    "Del_columns = data.columns[2:10]\n",
    "a.drop(Del_columns,axis=1,inplace=True)\n",
    "a.drop('Record',axis=1,inplace=True)\n",
    "a = a.iloc[:,0:48]"
   ]
  },
  {
   "cell_type": "code",
   "execution_count": null,
   "metadata": {},
   "outputs": [],
   "source": [
    "# calculate"
   ]
  }
 ]
}