{
 "metadata": {
  "language_info": {
   "codemirror_mode": {
    "name": "ipython",
    "version": 3
   },
   "file_extension": ".py",
   "mimetype": "text/x-python",
   "name": "python",
   "nbconvert_exporter": "python",
   "pygments_lexer": "ipython3",
   "version": "3.8.5-final"
  },
  "orig_nbformat": 2,
  "kernelspec": {
   "name": "python3",
   "display_name": "Python 3.8.5 64-bit (conda)",
   "metadata": {
    "interpreter": {
     "hash": "07efdcd4b820c98a756949507a4d29d7862823915ec7477944641bea022f4f62"
    }
   }
  }
 },
 "nbformat": 4,
 "nbformat_minor": 2,
 "cells": [
  {
   "cell_type": "code",
   "execution_count": 9,
   "metadata": {},
   "outputs": [
    {
     "output_type": "stream",
     "name": "stdout",
     "text": [
      "I:\\Data\\Personal Data\\graduation project\\SACOL\\microwave\\2007\\200712\\2007-12-01_Time0730.csv\n",
      "I:\\Data\\Personal Data\\graduation project\\SACOL\\microwave\\2007\\200712\\2007-12-01_Time1930.csv\n",
      "I:\\Data\\Personal Data\\graduation project\\SACOL\\microwave\\2007\\200712\\2007-12-02_Time0730.csv\n",
      "I:\\Data\\Personal Data\\graduation project\\SACOL\\microwave\\2007\\200712\\2007-12-02_Time1930.csv\n",
      "I:\\Data\\Personal Data\\graduation project\\SACOL\\microwave\\2007\\200712\\2007-12-03_Time0730.csv\n",
      "I:\\Data\\Personal Data\\graduation project\\SACOL\\microwave\\2007\\200712\\2007-12-03_Time1930.csv\n",
      "I:\\Data\\Personal Data\\graduation project\\SACOL\\microwave\\2007\\200712\\2007-12-04_Time0730.csv\n",
      "I:\\Data\\Personal Data\\graduation project\\SACOL\\microwave\\2007\\200712\\2007-12-04_Time1930.csv\n",
      "I:\\Data\\Personal Data\\graduation project\\SACOL\\microwave\\2007\\200712\\2007-12-05_Time0730.csv\n",
      "I:\\Data\\Personal Data\\graduation project\\SACOL\\microwave\\2007\\200712\\2007-12-05_Time1930.csv\n",
      "I:\\Data\\Personal Data\\graduation project\\SACOL\\microwave\\2007\\200712\\2007-12-06_Time0730.csv\n",
      "I:\\Data\\Personal Data\\graduation project\\SACOL\\microwave\\2007\\200712\\2007-12-06_Time1930.csv\n",
      "I:\\Data\\Personal Data\\graduation project\\SACOL\\microwave\\2007\\200712\\2007-12-07_Time0730.csv\n",
      "I:\\Data\\Personal Data\\graduation project\\SACOL\\microwave\\2007\\200712\\2007-12-07_Time1930.csv\n",
      "I:\\Data\\Personal Data\\graduation project\\SACOL\\microwave\\2007\\200712\\2007-12-08_Time0730.csv\n",
      "I:\\Data\\Personal Data\\graduation project\\SACOL\\microwave\\2007\\200712\\2007-12-08_Time1930.csv\n",
      "I:\\Data\\Personal Data\\graduation project\\SACOL\\microwave\\2007\\200712\\2007-12-09_Time0730.csv\n",
      "I:\\Data\\Personal Data\\graduation project\\SACOL\\microwave\\2007\\200712\\2007-12-09_Time1930.csv\n",
      "I:\\Data\\Personal Data\\graduation project\\SACOL\\microwave\\2007\\200712\\2007-12-10_Time0730.csv\n",
      "I:\\Data\\Personal Data\\graduation project\\SACOL\\microwave\\2007\\200712\\2007-12-10_Time1930.csv\n",
      "I:\\Data\\Personal Data\\graduation project\\SACOL\\microwave\\2007\\200712\\2007-12-11_Time0730.csv\n",
      "I:\\Data\\Personal Data\\graduation project\\SACOL\\microwave\\2007\\200712\\2007-12-11_Time1930.csv\n",
      "I:\\Data\\Personal Data\\graduation project\\SACOL\\microwave\\2007\\200712\\2007-12-12_Time0730.csv\n",
      "I:\\Data\\Personal Data\\graduation project\\SACOL\\microwave\\2007\\200712\\2007-12-12_Time1930.csv\n",
      "I:\\Data\\Personal Data\\graduation project\\SACOL\\microwave\\2007\\200712\\2007-12-13_Time0730.csv\n",
      "I:\\Data\\Personal Data\\graduation project\\SACOL\\microwave\\2007\\200712\\2007-12-13_Time1930.csv\n",
      "I:\\Data\\Personal Data\\graduation project\\SACOL\\microwave\\2007\\200712\\2007-12-14_Time0730.csv\n",
      "I:\\Data\\Personal Data\\graduation project\\SACOL\\microwave\\2007\\200712\\2007-12-14_Time1930.csv\n",
      "I:\\Data\\Personal Data\\graduation project\\SACOL\\microwave\\2007\\200712\\2007-12-15_Time0730.csv\n",
      "I:\\Data\\Personal Data\\graduation project\\SACOL\\microwave\\2007\\200712\\2007-12-15_Time1930.csv\n",
      "I:\\Data\\Personal Data\\graduation project\\SACOL\\microwave\\2007\\200712\\2007-12-16_Time0730.csv\n",
      "I:\\Data\\Personal Data\\graduation project\\SACOL\\microwave\\2007\\200712\\2007-12-16_Time1930.csv\n",
      "I:\\Data\\Personal Data\\graduation project\\SACOL\\microwave\\2007\\200712\\2007-12-17_Time0730.csv\n",
      "I:\\Data\\Personal Data\\graduation project\\SACOL\\microwave\\2007\\200712\\2007-12-17_Time1930.csv\n",
      "I:\\Data\\Personal Data\\graduation project\\SACOL\\microwave\\2007\\200712\\2007-12-18_Time0730.csv\n",
      "I:\\Data\\Personal Data\\graduation project\\SACOL\\microwave\\2007\\200712\\2007-12-18_Time1930.csv\n",
      "I:\\Data\\Personal Data\\graduation project\\SACOL\\microwave\\2007\\200712\\2007-12-19_Time0730.csv\n",
      "I:\\Data\\Personal Data\\graduation project\\SACOL\\microwave\\2007\\200712\\2007-12-19_Time1930.csv\n",
      "I:\\Data\\Personal Data\\graduation project\\SACOL\\microwave\\2007\\200712\\2007-12-20_Time0730.csv\n",
      "I:\\Data\\Personal Data\\graduation project\\SACOL\\microwave\\2007\\200712\\2007-12-20_Time1930.csv\n",
      "I:\\Data\\Personal Data\\graduation project\\SACOL\\microwave\\2007\\200712\\2007-12-21_Time0730.csv\n",
      "I:\\Data\\Personal Data\\graduation project\\SACOL\\microwave\\2007\\200712\\2007-12-21_Time1930.csv\n",
      "I:\\Data\\Personal Data\\graduation project\\SACOL\\microwave\\2007\\200712\\2007-12-22_Time0730.csv\n",
      "I:\\Data\\Personal Data\\graduation project\\SACOL\\microwave\\2007\\200712\\2007-12-22_Time1930.csv\n",
      "I:\\Data\\Personal Data\\graduation project\\SACOL\\microwave\\2007\\200712\\2007-12-23_Time0730.csv\n",
      "I:\\Data\\Personal Data\\graduation project\\SACOL\\microwave\\2007\\200712\\2007-12-23_Time1930.csv\n",
      "I:\\Data\\Personal Data\\graduation project\\SACOL\\microwave\\2007\\200712\\2007-12-24_Time0730.csv\n",
      "I:\\Data\\Personal Data\\graduation project\\SACOL\\microwave\\2007\\200712\\2007-12-24_Time1930.csv\n",
      "I:\\Data\\Personal Data\\graduation project\\SACOL\\microwave\\2007\\200712\\2007-12-25_Time0730.csv\n",
      "I:\\Data\\Personal Data\\graduation project\\SACOL\\microwave\\2007\\200712\\2007-12-25_Time1930.csv\n",
      "I:\\Data\\Personal Data\\graduation project\\SACOL\\microwave\\2007\\200712\\2007-12-26_Time0730.csv\n",
      "I:\\Data\\Personal Data\\graduation project\\SACOL\\microwave\\2007\\200712\\2007-12-26_Time1930.csv\n",
      "I:\\Data\\Personal Data\\graduation project\\SACOL\\microwave\\2007\\200712\\2007-12-27_Time0730.csv\n",
      "I:\\Data\\Personal Data\\graduation project\\SACOL\\microwave\\2007\\200712\\2007-12-27_Time1930.csv\n",
      "I:\\Data\\Personal Data\\graduation project\\SACOL\\microwave\\2007\\200712\\2007-12-28_Time0730.csv\n",
      "I:\\Data\\Personal Data\\graduation project\\SACOL\\microwave\\2007\\200712\\2007-12-28_Time1930.csv\n",
      "I:\\Data\\Personal Data\\graduation project\\SACOL\\microwave\\2007\\200712\\2007-12-29_Time0730.csv\n",
      "I:\\Data\\Personal Data\\graduation project\\SACOL\\microwave\\2007\\200712\\2007-12-29_Time1930.csv\n",
      "I:\\Data\\Personal Data\\graduation project\\SACOL\\microwave\\2007\\200712\\2007-12-30_Time0730.csv\n",
      "I:\\Data\\Personal Data\\graduation project\\SACOL\\microwave\\2007\\200712\\2007-12-30_Time1930.csv\n",
      "I:\\Data\\Personal Data\\graduation project\\SACOL\\microwave\\2007\\200712\\2007-12-31_Time0730.csv\n",
      "I:\\Data\\Personal Data\\graduation project\\SACOL\\microwave\\2007\\200712\\2007-12-31_Time1930.csv\n"
     ]
    }
   ],
   "source": [
    "import data_ope_module\n",
    "import read_filepath_module\n",
    "\n",
    "path = r'I:\\Data\\Personal Data\\graduation project\\SACOL\\microwave\\2007\\200712'\n",
    "Target_str = 'lv2'\n",
    "\n",
    "Output_paths = []\n",
    "for root,dirs,files in os.walk(path):\n",
    "    for file in files:\n",
    "        if(Target_str in file):\n",
    "            file_path = os.path.join(root,file)\n",
    "            Output_paths.append(file_path)\n",
    "\n",
    "for Output_path in Output_paths:\n",
    "    #print(Output_path)\n",
    "    data_ope_module.data_ope(Output_path)"
   ]
  }
 ]
}