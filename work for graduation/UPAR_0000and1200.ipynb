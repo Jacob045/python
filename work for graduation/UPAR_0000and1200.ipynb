{
 "metadata": {
  "language_info": {
   "codemirror_mode": {
    "name": "ipython",
    "version": 3
   },
   "file_extension": ".py",
   "mimetype": "text/x-python",
   "name": "python",
   "nbconvert_exporter": "python",
   "pygments_lexer": "ipython3",
   "version": "3.8.5-final"
  },
  "orig_nbformat": 2,
  "kernelspec": {
   "name": "python3",
   "display_name": "Python 3.8.5 64-bit (conda)",
   "metadata": {
    "interpreter": {
     "hash": "07efdcd4b820c98a756949507a4d29d7862823915ec7477944641bea022f4f62"
    }
   }
  }
 },
 "nbformat": 4,
 "nbformat_minor": 2,
 "cells": [
  {
   "cell_type": "code",
   "execution_count": 1,
   "metadata": {},
   "outputs": [
    {
     "output_type": "stream",
     "name": "stdout",
     "text": [
      "['I:\\\\Data\\\\Personal Data\\\\graduation project\\\\SACOL\\\\Balloon\\\\2007\\\\200706\\\\sounding_data_as_MWR_format_200706.txt', 'I:\\\\Data\\\\Personal Data\\\\graduation project\\\\SACOL\\\\Balloon\\\\2007\\\\200707\\\\sounding_data_as_MWR_format_200707.txt', 'I:\\\\Data\\\\Personal Data\\\\graduation project\\\\SACOL\\\\Balloon\\\\2007\\\\200708\\\\sounding_data_as_MWR_format_200708.txt', 'I:\\\\Data\\\\Personal Data\\\\graduation project\\\\SACOL\\\\Balloon\\\\2007\\\\200709\\\\sounding_data_as_MWR_format_200709.txt', 'I:\\\\Data\\\\Personal Data\\\\graduation project\\\\SACOL\\\\Balloon\\\\2007\\\\200710\\\\sounding_data_as_MWR_format_200710.txt', 'I:\\\\Data\\\\Personal Data\\\\graduation project\\\\SACOL\\\\Balloon\\\\2007\\\\200711\\\\sounding_data_as_MWR_format_200711.txt', 'I:\\\\Data\\\\Personal Data\\\\graduation project\\\\SACOL\\\\Balloon\\\\2007\\\\200712\\\\sounding_data_as_MWR_format_200712.txt']\n"
     ]
    }
   ],
   "source": [
    "'''\n",
    "    转换探空气球采集的数据的格式\n",
    "    北京时 = 世界时 + 8\n",
    "    探空崎岖采集的是世界时的00时和12时\n",
    "'''\n",
    "import pandas as pd \n",
    "import read_filepath_module\n",
    "\n",
    "Level_1_path = r'I:\\Data\\Personal Data\\graduation project\\SACOL\\Balloon\\2007'\n",
    "Target_str = 'sounding_data'\n",
    "Output_paths = read_filepath_module.read_filepath(Level_1_path,Target_str)\n",
    "print(Output_paths)"
   ]
  },
  {
   "cell_type": "code",
   "execution_count": 2,
   "metadata": {},
   "outputs": [],
   "source": [
    "def modify_index(filepath):\n",
    "    data = pd.read_csv(Output_path,sep='  ',encoding = \"UTF-8\")\n",
    "    i = 0\n",
    "    while i<data.shape[0]: \n",
    "        str11 = str(data.loc[i:i,'Time'].values)\n",
    "        data.loc[i:i,'Time'] = str11[1:9] + '_BjT' + str11[9:11] + '00'\n",
    "        i = i + 1\n",
    "    return(data)"
   ]
  },
  {
   "cell_type": "code",
   "execution_count": 3,
   "metadata": {},
   "outputs": [
    {
     "output_type": "stream",
     "name": "stdout",
     "text": [
      "I:\\Data\\Personal Data\\graduation project\\SACOL\\Balloon\\2007\\UPAR200706.csv\n",
      "I:\\Data\\Personal Data\\graduation project\\SACOL\\Balloon\\2007\\UPAR200707.csv\n",
      "I:\\Data\\Personal Data\\graduation project\\SACOL\\Balloon\\2007\\UPAR200708.csv\n",
      "I:\\Data\\Personal Data\\graduation project\\SACOL\\Balloon\\2007\\UPAR200709.csv\n",
      "I:\\Data\\Personal Data\\graduation project\\SACOL\\Balloon\\2007\\UPAR200710.csv\n",
      "I:\\Data\\Personal Data\\graduation project\\SACOL\\Balloon\\2007\\UPAR200711.csv\n",
      "I:\\Data\\Personal Data\\graduation project\\SACOL\\Balloon\\2007\\UPAR200712.csv\n"
     ]
    }
   ],
   "source": [
    "for Output_path in Output_paths:\n",
    "    Output = modify_index(Output_path)\n",
    "    filename = Output_path[0:60] + 'UPAR' + Output_path[95:101] + '.csv'\n",
    "    print(filename)\n",
    "    Output.to_csv(filename,index=0)"
   ]
  },
  {
   "cell_type": "code",
   "execution_count": null,
   "metadata": {},
   "outputs": [],
   "source": []
  }
 ]
}