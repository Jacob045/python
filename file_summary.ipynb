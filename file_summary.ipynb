{
 "metadata": {
  "language_info": {
   "codemirror_mode": {
    "name": "ipython",
    "version": 3
   },
   "file_extension": ".py",
   "mimetype": "text/x-python",
   "name": "python",
   "nbconvert_exporter": "python",
   "pygments_lexer": "ipython3",
   "version": "3.8.5-final"
  },
  "orig_nbformat": 2,
  "kernelspec": {
   "name": "python3",
   "display_name": "Python 3.8.5 64-bit (conda)",
   "metadata": {
    "interpreter": {
     "hash": "07efdcd4b820c98a756949507a4d29d7862823915ec7477944641bea022f4f62"
    }
   }
  }
 },
 "nbformat": 4,
 "nbformat_minor": 2,
 "cells": [
  {
   "cell_type": "code",
   "execution_count": null,
   "metadata": {},
   "outputs": [],
   "source": [
    "from os import getcwd\n",
    "from os import walk\n",
    "from os import path\n",
    "import pandas as pd\n",
    "current_path = getcwd()\n",
    "Targetstr1 = 'xls'\n",
    "Targetstr2 = 'xlsx'\n"
   ]
  },
  {
   "cell_type": "code",
   "execution_count": null,
   "metadata": {},
   "outputs": [],
   "source": [
    "filepaths = []\n",
    "for root,dirs,files in walk(current_path):\n",
    "    for file in files:\n",
    "        if(Targetstr1 in file):\n",
    "            filepaths.append(path.join(root,file))\n",
    "        elif(Targetstr2 in file):\n",
    "            filepaths.append(ath.join(root,file))\n",
    "\n",
    "data = pd.DataFrame()\n",
    "for i in range(0,len(filepaths)):\n",
    "    data_1 = pd.read_excel(filepaths[i])\n",
    "    data = data.append(data_1)\n",
    "    print(filepaths[i])\n",
    "print(f'共计合并{len(filepaths)}个文件')"
   ]
  },
  {
   "cell_type": "code",
   "execution_count": null,
   "metadata": {},
   "outputs": [],
   "source": [
    "data.to_excel(current_path+'\\\\output.xls',index=0)"
   ]
  }
 ]
}