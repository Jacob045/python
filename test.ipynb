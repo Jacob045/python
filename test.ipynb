{
 "metadata": {
  "language_info": {
   "codemirror_mode": {
    "name": "ipython",
    "version": 3
   },
   "file_extension": ".py",
   "mimetype": "text/x-python",
   "name": "python",
   "nbconvert_exporter": "python",
   "pygments_lexer": "ipython3",
   "version": "3.8.5-final"
  },
  "orig_nbformat": 2,
  "kernelspec": {
   "name": "python3",
   "display_name": "Python 3.8.5 64-bit (conda)",
   "metadata": {
    "interpreter": {
     "hash": "07efdcd4b820c98a756949507a4d29d7862823915ec7477944641bea022f4f62"
    }
   }
  }
 },
 "nbformat": 4,
 "nbformat_minor": 2,
 "cells": [
  {
   "cell_type": "code",
   "execution_count": 49,
   "metadata": {},
   "outputs": [],
   "source": [
    "import pandas as pd\n",
    "import numpy as np\n",
    "import random\n",
    "import pyecharts.options as opts\n",
    "from pyecharts.charts import Line\n",
    "from pyecharts.options.series_options import LineStyleOpts"
   ]
  },
  {
   "cell_type": "code",
   "execution_count": 50,
   "metadata": {},
   "outputs": [],
   "source": [
    "filepath = r'I:\\Data\\Personal Data\\graduation project\\SACOL\\original_data\\2007\\200705\\2007-05-19_19-16-32_lv2.csv'\n",
    "data = pd.read_csv(filepath)\n",
    "#print(data.iloc[0:1,11:57])\n",
    "x_axis = np.arange(200,350,5)\n",
    "x_axis = str(x_axis)\n",
    "#print(data.iloc[0:1,11:57])\n",
    "#print(data.iloc[4:5,11:57])\n"
   ]
  },
  {
   "source": [
    "|序号|内容|\n",
    "|:----:|:----:|\n",
    "|11|温度|\n",
    "|12|水汽密度|\n",
    "|13|相对湿度|\n",
    "|14|液态水含量|\n"
   ],
   "cell_type": "markdown",
   "metadata": {}
  },
  {
   "cell_type": "code",
   "execution_count": 51,
   "metadata": {},
   "outputs": [],
   "source": [
    "c = (\n",
    "    Line(\n",
    "        init_opts = opts.InitOpts(\n",
    "            width=\"2000px\",\n",
    "            height=\"2000px\",\n",
    "        )\n",
    "    )\n",
    "    .add_xaxis(xaxis_data=x_axis)\n",
    "    .add_yaxis(\n",
    "        \"05/19/07 19:18:18\",\n",
    "        y_axis = data.iloc[0:1,11:57],\n",
    "        linestyle_opts = opts.LineStyleOpts(width=2),\n",
    "    )\n",
    "    .add_yaxis(\n",
    "        \"05/19/07 19:19:19\",\n",
    "        y_axis = data.iloc[4:5,11:57],\n",
    "        linestyle_opts = opts.LineStyleOpts(width=4),\n",
    "    )\n",
    "    .set_global_opts(\n",
    "        \n",
    "        title_opts=opts.TitleOpts(title=\"温度廓线\"),\n",
    "        xaxis_opts=opts.AxisOpts(name=\"x\"),\n",
    "        yaxis_opts=opts.AxisOpts(\n",
    "            type_=\"log\",\n",
    "            name=\"y\",\n",
    "            splitline_opts=opts.SplitLineOpts(is_show=True),\n",
    "            is_scale=True,\n",
    "        ),\n",
    "    )\n",
    "    .render()\n",
    ")"
   ]
  }
 ]
}