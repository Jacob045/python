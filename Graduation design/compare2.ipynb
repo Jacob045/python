{
 "metadata": {
  "language_info": {
   "codemirror_mode": {
    "name": "ipython",
    "version": 3
   },
   "file_extension": ".py",
   "mimetype": "text/x-python",
   "name": "python",
   "nbconvert_exporter": "python",
   "pygments_lexer": "ipython3",
   "version": "3.8.5-final"
  },
  "orig_nbformat": 2,
  "kernelspec": {
   "name": "python3",
   "display_name": "Python 3.8.5 64-bit (conda)",
   "metadata": {
    "interpreter": {
     "hash": "07efdcd4b820c98a756949507a4d29d7862823915ec7477944641bea022f4f62"
    }
   }
  }
 },
 "nbformat": 4,
 "nbformat_minor": 2,
 "cells": [
  {
   "cell_type": "code",
   "execution_count": null,
   "metadata": {},
   "outputs": [],
   "source": [
    "import pandas as pd\n",
    "import os.path\n",
    "import os\n",
    "import matplotlib.pyplot as plt\n",
    "import numpy as np\n",
    "import read_filepath_module\n",
    "\n",
    "# 微波辐射计数据时段包含探空气球数据的时段,所以由探空气球代表的的世界时追踪微波辐射计代表的北京时\n",
    "Year = '2009'\n",
    "# os.mkdir(r'G:/python/Graduation design/photo/'+ Year)\n",
    "# ↓探空气球数据\n",
    "filepath_1 = r'I:\\Data\\Personal Data\\graduation project\\SACOL\\Balloon'\n",
    "Target_str_1 = 'UPAR'+Year\n",
    "# ↓微波辐射计数据\n",
    "filepath_2 = r'I:\\Data\\Personal Data\\graduation project\\SACOL\\microwave'\n",
    "Target_str_2 = 'lv2_'+Year"
   ]
  },
  {
   "cell_type": "code",
   "execution_count": null,
   "metadata": {},
   "outputs": [],
   "source": [
    "'''\n",
    "    北京时 = 世界时 + 8\n",
    "    此函数的功能就是将世界时转换为对应的北京时，\n",
    "'''\n",
    "def f_trans(str):\n",
    "    if(str == '0000'):\n",
    "        return('0800')\n",
    "    elif(str == '1200'):\n",
    "        return('2000')\n",
    "    else:\n",
    "        return('Error')"
   ]
  },
  {
   "cell_type": "code",
   "execution_count": null,
   "metadata": {},
   "outputs": [],
   "source": [
    "def draw_Linechart_photo(data,photoname):\n",
    "    plt.clf()\n",
    "    plt.rcParams['figure.figsize'] = (10.0,20.0)\n",
    "    #纵轴上分布高度数值\n",
    "    Height = data.columns.values[1:48]\n",
    "    # 绘图\n",
    "    Len = len(data['Time'])\n",
    "    # print(data)\n",
    "    i = 0\n",
    "    while i<Len:\n",
    "        data_for_print = np.array(data.iloc[i:i+1,1:48]).T\n",
    "        plt.plot(data_for_print, Height, label=data['Time'][i:i+1].values)\n",
    "        i = i+1\n",
    "    #设置X轴\n",
    "    x_ticks = np.linspace(180, 320, 8)\n",
    "    plt.xticks(x_ticks,rotation=45)\n",
    "    plt.xlabel(\"Fahrenheit K\")\n",
    "    plt.ylabel(\"Altitude km\")\n",
    "    # 启动图例\n",
    "    plt.legend()\n",
    "    # 添加网格\n",
    "    plt.grid()\n",
    "    # 主标题\n",
    "    plt.title(photoname,fontsize=20,fontweight='bold')\n",
    "    # 保存图片\n",
    "    photopath = 'G:/python/Graduation design/photo/' + photoname + '.png'\n",
    "    plt.savefig(photopath,bbox_inches = 'tight')\n",
    "    # 展示图片\n",
    "    # plt.show()"
   ]
  },
  {
   "cell_type": "code",
   "execution_count": null,
   "metadata": {},
   "outputs": [],
   "source": [
    "#函数 计算MSE\n",
    "def calculate_MSE(ex_data):\n",
    "    # print(ex_data.shape)\n",
    "    # print(ex_data[0,0],ex_data[1,0])\n",
    "    i = 1\n",
    "    sum = 0\n",
    "    # print('np.shape(ex_data)[1] is',np.shape(ex_data)[1])\n",
    "    while i < np.shape(ex_data)[1]:\n",
    "        sum = sum + (ex_data[0,i] - ex_data[1,i])**2\n",
    "        i = i + 1\n",
    "    MSE = sum/(np.shape(ex_data)[1] - 1)\n",
    "    # print(MSE,'\\n')\n",
    "    return MSE"
   ]
  },
  {
   "cell_type": "code",
   "execution_count": null,
   "metadata": {},
   "outputs": [],
   "source": [
    "def file_to_photo(filepath,MSE_data,picture_dir_name):\n",
    "    # data_1是气球探空数据\n",
    "    data_1 = pd.read_csv(filepath)\n",
    "    # draw_print是用于绘制折线图的DataFrame，空表\n",
    "    draw_print = pd.DataFrame()\n",
    "    i = 0\n",
    "    while i < data_1.shape[0]:\n",
    "        # 清空绘图数据表格\n",
    "        draw_print.drop(draw_print.index, inplace=True)\n",
    "        # print('i=',i)\n",
    "        # 将气球探空数据加入绘图数据表格\n",
    "        draw_print = draw_print.append(data_1.loc[i:i,])\n",
    "        # print('气球',draw_print,'\\n')\n",
    "        # 由探空气球代表的的北京市得出对应的微波辐射计代表的世界时文件名称及路径\n",
    "        file_search_point = 'lv2_' + str(data_1.loc[i:i,'Time'].values)[2:8]\n",
    "        # print(str(data_1.loc[i:i,'Time'].values)[2:8])\n",
    "        file_search_path = filepath_2 + '\\\\' + str(data_1.loc[i:i,'Time'].values)[2:6] +'\\\\' + file_search_point + '.csv'\n",
    "        # print('file_search_path is',file_search_path)\n",
    "        # 如果文件路径存在，执行搜索任务\n",
    "        if(os.path.exists(file_search_path)):\n",
    "            # 把小范围的微波辐射计数据加载到ready_data中\n",
    "            ready_data = pd.read_csv(file_search_path)\n",
    "            ready_data.rename(columns={'Date/Time':'Time'},inplace=True)\n",
    "            # 确定具体的微博辐射计的时间点\n",
    "            trans = f_trans(str(data_1.loc[i:i,'Time'].values)[14:18])\n",
    "            trans_point = str(data_1.loc[i:i,'Time'].values)[2:10] + '_WT' + trans\n",
    "            # 将时间对应的具体数据也加入到绘图数据表格内\n",
    "            j = 0\n",
    "            flag = 0\n",
    "            while j < ready_data.shape[0]:\n",
    "                # print(j)\n",
    "                T = str(ready_data.loc[j:j,'Time'].values)[2:17]\n",
    "                if(T == trans_point):\n",
    "                    flag = j\n",
    "                    draw_print = draw_print.append(ready_data.loc[j:j,])\n",
    "                    # print('气球+微波',draw_print,'\\n')\n",
    "                    break\n",
    "                j = j + 1\n",
    "            #---------------------------------------------------------------------------------\n",
    "            # flag!=0代表着找到了对应的数据\n",
    "            if(flag != 0):\n",
    "                # 重置index\n",
    "                draw_print = draw_print.reset_index(drop=True)\n",
    "                # print(draw_print)\n",
    "                photoname = picture_dir_name + '\\BeijingTime' + str(draw_print.loc[1:1,'Time'].values)[2:10] + '_' + str(draw_print.loc[1:1,'Time'].values)[13:17]\n",
    "                # print(draw_print)\n",
    "                # 绘图\n",
    "                draw_Linechart_photo(draw_print,photoname)\n",
    "                print('  Sir, I have drawn the '+photoname)\n",
    "                MSE_data.loc[i,0] = photoname\n",
    "                MSE = calculate_MSE(np.array(draw_print))\n",
    "                MSE_data.loc[i,1] = MSE\n",
    "                MSE_data.loc[i,2] = MSE**0.5\n",
    "                print('  Sir, I have output MSE and RMSE\\n')\n",
    "                draw_print.drop(draw_print.index, inplace=True)\n",
    "            else:\n",
    "                print('  ' + trans_point+' data no exits')\n",
    "        else:\n",
    "            print('  ' + file_search_path+' file no exists')\n",
    "                # print('finish\\n')\n",
    "                # print(draw_print)\n",
    "                # print('\\n\\n\\n')\n",
    "                #MSE_data = MSE_data.append(photoname,calculate_MSE(np.array(draw_print)))\n",
    "            # ---------------------------------------------------------------------\n",
    "        i = i + 1       "
   ]
  },
  {
   "cell_type": "code",
   "execution_count": null,
   "metadata": {
    "tags": []
   },
   "outputs": [],
   "source": [
    "os.chdir(r'G:\\python\\Graduation design\\photo')\n",
    "data_dir_name = Year+'_data'\n",
    "picture_dir_name = Year+'_picture'\n",
    "# 创建对比数据文件夹\n",
    "if(os.path.exists(data_dir_name) == False):\n",
    "    os.mkdir(os.getcwd()+'\\\\'+data_dir_name)\n",
    "# 创建对比图片文件夹\n",
    "if(os.path.exists(picture_dir_name)== False):\n",
    "    os.mkdir(os.getcwd()+'\\\\'+picture_dir_name)"
   ]
  },
  {
   "cell_type": "code",
   "execution_count": null,
   "metadata": {},
   "outputs": [],
   "source": [
    "L1_filepaths = read_filepath_module.read_filepath(filepath_1,Target_str_1)\n",
    "L2_filepaths = read_filepath_module.read_filepath(filepath_2,Target_str_2)\n",
    "for L1_filepath in L1_filepaths:\n",
    "    MSE_data = pd.DataFrame()\n",
    "    print('Start to process: ' + L1_filepath)\n",
    "    file_to_photo(L1_filepath,MSE_data,picture_dir_name)\n",
    "    MSE_data.rename(columns={0:'Time',1:'MSE',2:'RMSE'},inplace=True)\n",
    "    MSE_data = MSE_data.round(2)\n",
    "    MSE_data.to_csv(r'G:/python/Graduation design/photo/' + data_dir_name + '/' + L1_filepath[64:74],index=0)\n",
    "    print('  Sir, I have output the file named:' + data_dir_name + '/' + L1_filepath[64:74] + '\\n\\n')"
   ]
  },
  {
   "cell_type": "code",
   "execution_count": null,
   "metadata": {},
   "outputs": [],
   "source": []
  }
 ]
}