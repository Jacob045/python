{
 "metadata": {
  "language_info": {
   "codemirror_mode": {
    "name": "ipython",
    "version": 3
   },
   "file_extension": ".py",
   "mimetype": "text/x-python",
   "name": "python",
   "nbconvert_exporter": "python",
   "pygments_lexer": "ipython3",
   "version": "3.8.5-final"
  },
  "orig_nbformat": 2,
  "kernelspec": {
   "name": "python3",
   "display_name": "Python 3.8.5 64-bit (conda)",
   "metadata": {
    "interpreter": {
     "hash": "07efdcd4b820c98a756949507a4d29d7862823915ec7477944641bea022f4f62"
    }
   }
  }
 },
 "nbformat": 4,
 "nbformat_minor": 2,
 "cells": [
  {
   "cell_type": "code",
   "execution_count": null,
   "metadata": {},
   "outputs": [],
   "source": [
    "import pandas as pd\n",
    "import os.path\n",
    "import matplotlib.pyplot as plt\n",
    "import numpy as np\n",
    "from draw_photo_module import draw_Linechart_photo\n",
    "import read_filepath_module\n",
    "\n",
    "# 微波辐射计数据时段包含探空气球数据的时段,所以由探空气球代表的的世界时追踪微波辐射计代表的北京时\n",
    "# ↓探空气球数据\n",
    "filepath_1 = r'I:\\Data\\Personal Data\\graduation project\\SACOL\\Balloon'\n",
    "Target_str_1 = 'UPAR2008'\n",
    "# ↓微波辐射计数据\n",
    "filepath_2 = r'I:\\Data\\Personal Data\\graduation project\\SACOL\\microwave'\n",
    "Target_str_2 = 'lv2_2008'"
   ]
  },
  {
   "cell_type": "code",
   "execution_count": null,
   "metadata": {},
   "outputs": [],
   "source": [
    "'''\n",
    "    北京时 = 世界时 + 8\n",
    "    此函数的功能就是将世界时转换为对应的北京时，\n",
    "'''\n",
    "def f_trans(str):\n",
    "    if(str == '0000'):\n",
    "        return('0800')\n",
    "    elif(str == '1200'):\n",
    "        return('2000')\n",
    "    else:\n",
    "        return('Error')"
   ]
  },
  {
   "cell_type": "code",
   "execution_count": null,
   "metadata": {},
   "outputs": [],
   "source": [
    "#函数 计算MSE\n",
    "def calculate_MSE(ex_data):\n",
    "    # print(ex_data.shape)\n",
    "    # print(ex_data[0,0],ex_data[1,0])\n",
    "    i = 1\n",
    "    sum = 0\n",
    "    # print('np.shape(ex_data)[1] is',np.shape(ex_data)[1])\n",
    "    while i < np.shape(ex_data)[1]:\n",
    "        sum = sum + (ex_data[0,i] - ex_data[1,i])**2\n",
    "        i = i + 1\n",
    "    MSE = sum/(np.shape(ex_data)[1] - 1)\n",
    "    # print(MSE,'\\n')\n",
    "    return MSE"
   ]
  },
  {
   "cell_type": "code",
   "execution_count": null,
   "metadata": {},
   "outputs": [],
   "source": [
    "def file_to_photo(filepath,MSE_data):\n",
    "    # data_1是气球探空数据\n",
    "    data_1 = pd.read_csv(filepath)\n",
    "    # draw_print是用于绘制折线图的DataFrame，空表\n",
    "    draw_print = pd.DataFrame()\n",
    "    i = 0\n",
    "    while i < data_1.shape[0]:\n",
    "        # 清空绘图数据表格\n",
    "        draw_print.drop(draw_print.index, inplace=True)\n",
    "        # print('i=',i)\n",
    "        # 将气球探空数据加入绘图数据表格\n",
    "        draw_print = draw_print.append(data_1.loc[i:i,])\n",
    "        print('气球',draw_print,'\\n')\n",
    "        # 由探空气球代表的的北京市得出对应的微波辐射计代表的世界时文件名称及路径\n",
    "        file_search_point = 'lv2_' + str(data_1.loc[i:i,'Time'].values)[2:8]\n",
    "        # print(str(data_1.loc[i:i,'Time'].values)[2:8])\n",
    "        file_search_path = filepath_2 + '\\\\' + str(data_1.loc[i:i,'Time'].values)[2:6] +'\\\\' + file_search_point + '.csv'\n",
    "        # print('file_search_path is',file_search_path)\n",
    "        # 如果文件路径存在，执行搜索任务\n",
    "        if(os.path.exists(file_search_path)):\n",
    "            # 把小范围的微波辐射计数据加载到ready_data中\n",
    "            ready_data = pd.read_csv(file_search_path)\n",
    "            ready_data.rename(columns={'Date/Time':'Time'},inplace=True)\n",
    "            # 确定具体的微博辐射计的时间点\n",
    "            trans = f_trans(str(data_1.loc[i:i,'Time'].values)[14:18])\n",
    "            trans_point = str(data_1.loc[i:i,'Time'].values)[2:10] + '_WT' + trans\n",
    "            # 将时间对应的具体数据也加入到绘图数据表格内\n",
    "            j = 0\n",
    "            flag = 0\n",
    "            while j < ready_data.shape[0]:\n",
    "                # print(j)\n",
    "                T = str(ready_data.loc[j:j,'Time'].values)[2:17]\n",
    "                if(T == trans_point):\n",
    "                    flag = j\n",
    "                    draw_print = draw_print.append(ready_data.loc[j:j,])\n",
    "                    # print('气球+微波',draw_print,'\\n')\n",
    "                    break\n",
    "                j = j + 1\n",
    "            #---------------------------------------------------------------------------------\n",
    "        \n",
    "            # flag!=0代表着找到了对应的数据\n",
    "            if(flag != 0):\n",
    "                # 重置index\n",
    "                draw_print = draw_print.reset_index(drop=True)\n",
    "                # print(draw_print)\n",
    "                photoname = 'BeijingTime' + str(draw_print.loc[1:1,'Time'].values)[2:10] + '_' + str(draw_print.loc[1:1,'Time'].values)[13:17]\n",
    "                # draw_Linechart_photo(draw_print,photoname)\n",
    "                MSE_data.loc[i,0] = photoname\n",
    "                MSE = calculate_MSE(np.array(draw_print))\n",
    "                MSE_data.loc[i,1] = MSE\n",
    "                MSE_data.loc[i,2] = MSE**0.5\n",
    "                #MSE_data = MSE_data.append(photoname,calculate_MSE(np.array(draw_print)))\n",
    "            # ---------------------------------------------------------------------\n",
    "        i = i + 1       "
   ]
  },
  {
   "cell_type": "code",
   "execution_count": null,
   "metadata": {
    "tags": []
   },
   "outputs": [],
   "source": [
    "L1_filepaths = read_filepath_module.read_filepath(filepath_1,Target_str_1)\n",
    "L2_filepaths = read_filepath_module.read_filepath(filepath_2,Target_str_2)\n",
    "MSE_data = pd.DataFrame()\n",
    "for L1_filepath in L1_filepaths:\n",
    "    file_to_photo(L1_filepath,MSE_data)\n",
    "MSE_data.rename(columns={0:'Time',1:'MSE',2:'RMSE'},inplace=True)"
   ]
  },
  {
   "cell_type": "code",
   "execution_count": null,
   "metadata": {},
   "outputs": [],
   "source": []
  }
 ]
}