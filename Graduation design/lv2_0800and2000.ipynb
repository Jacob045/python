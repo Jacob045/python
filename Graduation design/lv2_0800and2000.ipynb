{
 "metadata": {
  "language_info": {
   "codemirror_mode": {
    "name": "ipython",
    "version": 3
   },
   "file_extension": ".py",
   "mimetype": "text/x-python",
   "name": "python",
   "nbconvert_exporter": "python",
   "pygments_lexer": "ipython3",
   "version": "3.8.5-final"
  },
  "orig_nbformat": 2,
  "kernelspec": {
   "name": "python3",
   "display_name": "Python 3.8.5 64-bit (conda)",
   "metadata": {
    "interpreter": {
     "hash": "07efdcd4b820c98a756949507a4d29d7862823915ec7477944641bea022f4f62"
    }
   }
  }
 },
 "nbformat": 4,
 "nbformat_minor": 2,
 "cells": [
  {
   "cell_type": "code",
   "execution_count": 1,
   "metadata": {
    "tags": []
   },
   "outputs": [],
   "source": [
    "'''\n",
    "    将lv2数据中选取能够与探空气球放飞时间吻合的时间段\n",
    "    北京时 = 世界时 + 8\n",
    "    微波辐射计采用北京时，气球放飞的时间是00时和12时，所以微波选用08时和20时\n",
    "'''\n",
    "import pandas as pd \n",
    "import read_filepath_module\n",
    "\n",
    "Level_1_path = r'I:\\Data\\Personal Data\\graduation project\\SACOL\\microwave\\2009'\n",
    "Target_str = 'lv2'\n",
    "\n",
    "Level_2_paths = []\n",
    "for root,dirs,file in os.walk(Level_1_path):\n",
    "    for dir in dirs:\n",
    "        Level_2_paths.append(dir)\n",
    "\n",
    "Output_paths = read_filepath_module.read_filepath(Level_1_path,Target_str)\n",
    "# Output_paths = []\n",
    "# for root,dirs,files in os.walk(Level_2_path):\n",
    "#     for file in files:\n",
    "#         if(Target_str in file):\n",
    "#             file_path = os.path.join(root,file)\n",
    "#             Output_paths.append(file_path)"
   ]
  },
  {
   "cell_type": "code",
   "execution_count": 2,
   "metadata": {},
   "outputs": [],
   "source": [
    "# 创建一个空的DataFrame表：Output\n",
    "a = pd.read_csv(Output_paths[0])\n",
    "Del_columns = a.columns[2:10]\n",
    "a.drop(Del_columns,axis=1,inplace=True)\n",
    "a.drop('Record',axis=1,inplace=True)\n",
    "Mean_Output = a.iloc[0:0,:]"
   ]
  },
  {
   "cell_type": "code",
   "execution_count": 3,
   "metadata": {},
   "outputs": [],
   "source": [
    "def data_op(filepath):\n",
    "    # 打开数据文件\n",
    "    data = pd.read_csv(filepath)\n",
    "    parameter = 11\n",
    "    a = data.loc[data['10']==parameter]\n",
    "    Del_columns = data.columns[2:10]\n",
    "    a.drop(Del_columns,axis=1,inplace=True)\n",
    "    a.drop('Record',axis=1,inplace=True)\n",
    "    a = a.iloc[:,0:48]\n",
    "\n",
    "    # 搜索标志\n",
    "    Search_points = ['07:30','19:30']\n",
    "    Output = a.iloc[0:0,:]\n",
    "    Mean_Output = Output\n",
    "    for Search_point in Search_points:\n",
    "        i = 0\n",
    "        point = 0\n",
    "        while i < len(a['Date/Time']):\n",
    "            if( Search_point in str(a['Date/Time'][i:i+1].values)):\n",
    "                point = i\n",
    "                break\n",
    "            i = i +1\n",
    "        if(point == 0):\n",
    "            continue\n",
    "        while((i-point)<60):\n",
    "            Output = Output.append(a.iloc[i:i+1,:],ignore_index=True)\n",
    "            if((i - point) == 30):\n",
    "                Date = a.iloc[i:i+1,0:1]\n",
    "            i = i + 1\n",
    "        \n",
    "        Output = Output.append(Output.mean(),ignore_index=True)\n",
    "        Output.loc[60,'Date/Time'] = '20' + str(Date.values)[9:11] + str(Date.values)[3:5] + str(Date.values)[6:8] + '_WT' + str(Date.values)[12:14] + str(Date.values)[15:17]\n",
    "        # print(Output.loc[60,'Date/Time'])\n",
    "        # test \n",
    "        # Output.to_csv(r'H:/桌面/test0.csv',index=0)\n",
    "        Mean_Output = Mean_Output.append(Output.loc[60,],ignore_index=True)\n",
    "        # test \n",
    "        # Mean_Output.to_csv(r'H:/桌面/test1.csv',index=0)\n",
    "\n",
    "    return(Mean_Output)"
   ]
  },
  {
   "cell_type": "code",
   "execution_count": 4,
   "metadata": {
    "tags": []
   },
   "outputs": [
    {
     "output_type": "stream",
     "name": "stdout",
     "text": [
      "I:\\Data\\Personal Data\\graduation project\\SACOL\\microwave\\2009\\lv2_200901.csv\n",
      "I:\\Data\\Personal Data\\graduation project\\SACOL\\microwave\\2009\\lv2_200902.csv\n",
      "I:\\Data\\Personal Data\\graduation project\\SACOL\\microwave\\2009\\lv2_200903.csv\n",
      "I:\\Data\\Personal Data\\graduation project\\SACOL\\microwave\\2009\\lv2_200904.csv\n",
      "I:\\Data\\Personal Data\\graduation project\\SACOL\\microwave\\2009\\lv2_200905.csv\n",
      "I:\\Data\\Personal Data\\graduation project\\SACOL\\microwave\\2009\\lv2_200906.csv\n",
      "I:\\Data\\Personal Data\\graduation project\\SACOL\\microwave\\2009\\lv2_200907.csv\n",
      "I:\\Data\\Personal Data\\graduation project\\SACOL\\microwave\\2009\\lv2_200908.csv\n",
      "I:\\Data\\Personal Data\\graduation project\\SACOL\\microwave\\2009\\lv2_200909.csv\n",
      "I:\\Data\\Personal Data\\graduation project\\SACOL\\microwave\\2009\\lv2_200910.csv\n",
      "I:\\Data\\Personal Data\\graduation project\\SACOL\\microwave\\2009\\lv2_200911.csv\n",
      "I:\\Data\\Personal Data\\graduation project\\SACOL\\microwave\\2009\\lv2_200912.csv\n"
     ]
    }
   ],
   "source": [
    "for Level_2_path in Level_2_paths:\n",
    "    Mean_Output.drop(Mean_Output.index, inplace=True)\n",
    "    for Output_path in Output_paths:\n",
    "        if(Level_2_path in Output_path):\n",
    "            tt = data_op(Output_path)\n",
    "            Mean_Output = Mean_Output.append(tt)\n",
    "            filename = Level_1_path+'\\\\' +'lv2_' + Output_path[62:68] + '.csv'\n",
    "    print(filename)\n",
    "    Mean_Output.to_csv(filename,index=0)"
   ]
  },
  {
   "cell_type": "code",
   "execution_count": null,
   "metadata": {},
   "outputs": [],
   "source": []
  }
 ]
}