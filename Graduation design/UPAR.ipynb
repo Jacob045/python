{
 "metadata": {
  "language_info": {
   "codemirror_mode": {
    "name": "ipython",
    "version": 3
   },
   "file_extension": ".py",
   "mimetype": "text/x-python",
   "name": "python",
   "nbconvert_exporter": "python",
   "pygments_lexer": "ipython3",
   "version": "3.8.5-final"
  },
  "orig_nbformat": 2,
  "kernelspec": {
   "name": "python3",
   "display_name": "Python 3.8.5 64-bit (conda)",
   "metadata": {
    "interpreter": {
     "hash": "07efdcd4b820c98a756949507a4d29d7862823915ec7477944641bea022f4f62"
    }
   }
  }
 },
 "nbformat": 4,
 "nbformat_minor": 2,
 "cells": [
  {
   "cell_type": "code",
   "execution_count": null,
   "metadata": {},
   "outputs": [],
   "source": [
    "'''\n",
    "    由探空气球测量得到的数据，经过IDL程序read_sounding_data_from_guo.pro和output_sounding_data_as_mwr_data_format.pro处理得到各个高度的温度\n",
    "    此数据集将作为神经网络的输出端\n",
    "'''\n",
    "import numpy as np\n",
    "import matplotlib.pyplot as plt\n",
    "import pandas as pd\n",
    "import draw_photo_module\n",
    "filepath = r'I:\\Data\\Personal Data\\graduation project\\SACOL\\original_data\\200706\\sounding_data_as_MWR_format_200706.txt'"
   ]
  },
  {
   "cell_type": "code",
   "execution_count": null,
   "metadata": {},
   "outputs": [],
   "source": [
    "data = pd.read_csv(filepath,sep='  ',encoding = \"UTF-8\")\n",
    "photoname = filepath[68:102]"
   ]
  },
  {
   "cell_type": "code",
   "execution_count": null,
   "metadata": {
    "tags": []
   },
   "outputs": [],
   "source": [
    "draw_photo_module.draw_profile_photo(data,photoname)"
   ]
  }
 ]
}