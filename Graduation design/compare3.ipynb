{
 "metadata": {
  "language_info": {
   "codemirror_mode": {
    "name": "ipython",
    "version": 3
   },
   "file_extension": ".py",
   "mimetype": "text/x-python",
   "name": "python",
   "nbconvert_exporter": "python",
   "pygments_lexer": "ipython3",
   "version": "3.8.5-final"
  },
  "orig_nbformat": 2,
  "kernelspec": {
   "name": "python3",
   "display_name": "Python 3.8.5 64-bit (conda)",
   "metadata": {
    "interpreter": {
     "hash": "07efdcd4b820c98a756949507a4d29d7862823915ec7477944641bea022f4f62"
    }
   }
  }
 },
 "nbformat": 4,
 "nbformat_minor": 2,
 "cells": [
  {
   "cell_type": "code",
   "execution_count": null,
   "metadata": {},
   "outputs": [],
   "source": [
    "import pandas as pd\n",
    "import os\n",
    "import matplotlib.pyplot as plt \n",
    "import numpy as np \n",
    "import read_filepath_module"
   ]
  },
  {
   "cell_type": "code",
   "execution_count": null,
   "metadata": {},
   "outputs": [],
   "source": [
    "# 确定两种数据源的路径\n",
    "# 微波辐射计数据时段包含探空气球数据的时段,所以由探空气球代表的的世界时追踪微波辐射计代表的北京时\n",
    "Year = '2010'\n",
    "Filepath = r'I:\\Data\\Personal Data\\graduation project\\SACOL'\n",
    "# ↓探空气球数据\n",
    "filepath_1 = Filepath + '\\Balloon'\n",
    "Target_str_1 = 'UPAR'+Year\n",
    "# ↓微波辐射计数据\n",
    "filepath_2 = Filepath + '\\microwave'\n",
    "Target_str_2 = 'lv2_'+Year\n"
   ]
  },
  {
   "cell_type": "code",
   "execution_count": null,
   "metadata": {},
   "outputs": [],
   "source": [
    "'''\n",
    "    北京时 = 世界时 + 8\n",
    "    此函数的功能就是将世界时转换为对应的北京时，\n",
    "'''\n",
    "def f_trans(str):\n",
    "    if(str == '0000'):\n",
    "        return('0800')\n",
    "    elif(str == '1200'):\n",
    "        return('2000')\n",
    "    else:\n",
    "        return('Error')"
   ]
  },
  {
   "cell_type": "code",
   "execution_count": null,
   "metadata": {},
   "outputs": [],
   "source": [
    "def search_data(filepath):\n",
    "    # data_1是气球探空数据\n",
    "    data_1 = pd.read_csv(filepath)\n",
    "    # data_2 暂时存储同一时间的匹配数据\n",
    "    data_2 = pd.DataFrame()\n",
    "    output_data = pd.DataFrame()\n",
    "    i = 0\n",
    "    while i < data_1.shape[0]:\n",
    "    # while i < 1:\n",
    "        # 清空绘图数据\n",
    "        data_2.drop(data_2.index, inplace=True)\n",
    "        data_2 = data_2.append(data_1.loc[i:i,])\n",
    "        file_search_point = 'lv2_'+str(data_1.loc[i:i,'Time'].values)[2:8]\n",
    "        file_search_path = filepath_2 + '\\\\' + str(data_1.loc[i:i,'Time'].values)[2:6] +'\\\\' + file_search_point + '.csv'\n",
    "        if(os.path.exists(file_search_path)):\n",
    "            # data_3 载入搜索文件\n",
    "            # 搜索并标记\n",
    "            data_3 = pd.read_csv(file_search_path)\n",
    "            data_3.rename(columns={'Date/Time':'Time'},inplace=True)\n",
    "            # 转换搜索点\n",
    "            trans_point = str(data_1.loc[i:i,'Time'].values)[2:10] + '_WT' + f_trans(str(data_1.loc[i:i,'Time'].values)[14:18])\n",
    "            j = -1\n",
    "            flag = -1\n",
    "            # 遍历搜索文件寻找搜索点\n",
    "            while j < data_3.shape[0]-1:\n",
    "                j = j + 1\n",
    "                T = str(data_3.loc[j:j,'Time'].values)[2:17]\n",
    "                if(T == trans_point):\n",
    "                    flag = j\n",
    "                    data_2 = data_2.append(data_3.loc[j:j,])\n",
    "                # else:\n",
    "                #     print(trans_point[0:8]+'_BjT'+trans_point[11:18] +' NO exists!')\n",
    "                #     print(T+'\\n')\n",
    "        # -----------------------------------------------------------\n",
    "            if(flag == -1):\n",
    "                print('No compare data:'+trans_point)\n",
    "                # print('No compare data: '+trans_point[0:8]+'_BjT'+trans_point[11:18])\n",
    "                break\n",
    "            else:\n",
    "                output_data = output_data.append(data_2)\n",
    "                print('Ready to find: '+trans_point)\n",
    "                # print('Ready to find: '+trans_point[0:8]+'_BjT'+trans_point[11:18])\n",
    "        else:\n",
    "            print('No exits '+ file_search_path+'\\n')\n",
    "            break\n",
    "        i = i + 1\n",
    "    output_data = output_data.round(2)\n",
    "    return(output_data)"
   ]
  },
  {
   "cell_type": "code",
   "execution_count": null,
   "metadata": {},
   "outputs": [],
   "source": [
    "# 气球探空数据\n",
    "L1_filepaths = read_filepath_module.read_filepath(filepath_1,Target_str_1)\n",
    "# 微波辐射计探空数据\n",
    "L2_filepaths = read_filepath_module.read_filepath(filepath_2,Target_str_2)\n",
    "data = pd.DataFrame()\n",
    "for L1_filepath in L1_filepaths:\n",
    "    data = data.append(search_data(L1_filepath))\n",
    "    print('Finish:'+L1_filepath)\n",
    "data.reset_index(inplace=True,drop=True)\n",
    "# data.to_csv(r'H:\\桌面\\test.csv')"
   ]
  },
  {
   "cell_type": "code",
   "execution_count": null,
   "metadata": {},
   "outputs": [],
   "source": [
    "# col = 1\n",
    "# while col<data.shape[1]:\n",
    "#     row = 0\n",
    "#     while row<data.shape[0]:\n",
    "#         data.iloc[row:row+1,col:col+1] = (data.iloc[row:row+1,col:col+1]>350)\n",
    "#         row=row+1\n",
    "#     col=col+1\n",
    "# row = 502\n",
    "# col = 4\n",
    "# print(False in (data.iloc[row:row+1,col:col+1]>350).values)"
   ]
  },
  {
   "cell_type": "code",
   "execution_count": null,
   "metadata": {},
   "outputs": [],
   "source": [
    "def delete_row(row):\n",
    "    # flag = flag + 1\n",
    "    if(row&1 == 0):\n",
    "        data.drop([row,row+1],inplace=True)\n",
    "        print(f'Have already delete {row} and {row+1}')\n",
    "    else:\n",
    "        data.drop([row-1,row],inplace=True)\n",
    "        print(f'Have already delete {row-1} and {row}')\n",
    "#---------------------------------------------------------\n",
    "flag = 0\n",
    "col = 1\n",
    "while col<data.shape[1]:\n",
    "    #print('col'+str(col))\n",
    "    row = 0\n",
    "    data.reset_index(inplace=True,drop=True)\n",
    "    while row<data.shape[0]:\n",
    "        # print('    row'+str(row))\n",
    "        # print(data.iloc[row:row+1,col:col+1])\n",
    "        if(str(data.iloc[row:row+1,col:col+1].values)[2:5] == 'nan'):\n",
    "            print('NaN')\n",
    "            print(row,col)\n",
    "            delete_row(row)\n",
    "            if(row&1 ==0):\n",
    "                row = row + 2\n",
    "            else:\n",
    "                row = row + 1\n",
    "        elif(True in (data.iloc[row:row+1,col:col+1]>350).values):\n",
    "            print(row,col)\n",
    "            delete_row(row)\n",
    "            if(row&1 ==0):\n",
    "                row = row + 2\n",
    "            else:\n",
    "                row = row + 1\n",
    "        else:\n",
    "            row = row + 1\n",
    "    col = col + 1"
   ]
  },
  {
   "cell_type": "code",
   "execution_count": null,
   "metadata": {},
   "outputs": [],
   "source": [
    "def MSE(df):\n",
    "    npdata =np.array(df)\n",
    "    # print(npdata)\n",
    "    row = 0\n",
    "    sum = 0\n",
    "    while row<npdata.shape[0]:\n",
    "        sum = sum + (npdata[row:row+1,:]-npdata[row+1:row+2,:]) ** 2\n",
    "        # print(npdata[row:row+1,:])\n",
    "        # print(npdata[row+1:row+2,:])\n",
    "        row = row + 2\n",
    "    MSE_data = sum/npdata.shape[0]\n",
    "    return(MSE_data)"
   ]
  },
  {
   "cell_type": "code",
   "execution_count": null,
   "metadata": {},
   "outputs": [],
   "source": [
    "col = 1\n",
    "data1123n = [ ]\n",
    "while col < data.shape[1]:\n",
    "    # print(MSE(data.iloc[:,col:col+1]).round(2))\n",
    "    print(float(MSE(data.iloc[:,col:col+1]).round(2)))\n",
    "    data1123n.append(float(MSE(data.iloc[:,col:col+1]).round(2)))\n",
    "    col = col + 1\n"
   ]
  },
  {
   "cell_type": "code",
   "execution_count": null,
   "metadata": {},
   "outputs": [],
   "source": [
    "photoname = Year\n",
    "plt.rcParams['figure.figsize'] = (10.0,10.0)\n",
    "#纵轴上分布高度数值\n",
    "Height = ['0.00', '0.10', '0.20', '0.30', '0.40', '0.50', '0.60', '0.70', '0.80', '0.90', '1.00', '1.25', '1.50', '1.75', '2.00', '2.25', '2.50', '2.75', '3.00', '3.25', '3.50', '3.75', '4.00', '4.25', '4.50', '4.75', '5.00', '5.25', '5.50', '5.75', '6.00', '6.25', '6.50', '6.75', '7.00', '7.25', '7.50', '7.75', '8.00', '8.25', '8.50', '8.75', '9.00', '9.25', '9.50', '9.75', '10.00']\n",
    "# 绘图\n",
    "plt.plot(data1123n, Height)\n",
    "#设置X轴\n",
    "x_ticks = np.linspace(0,120,13)\n",
    "plt.xticks(x_ticks,rotation=45)\n",
    "plt.xlabel(\"MSE\")\n",
    "plt.ylabel(\"Altitude km\")\n",
    "# 启动图例\n",
    "# plt.legend()\n",
    "# 添加网格\n",
    "plt.grid()\n",
    "# 主标题\n",
    "plt.title(photoname,fontsize=20,fontweight='bold')\n",
    "# 保存图片\n",
    "photopath = 'G:/python/Graduation design/photo/' + photoname + '.png'\n",
    "# plt.savefig(photopath,bbox_inches = 'tight')\n",
    "# 展示图片\n",
    "plt.show()\n"
   ]
  },
  {
   "cell_type": "code",
   "execution_count": null,
   "metadata": {},
   "outputs": [],
   "source": []
  }
 ]
}