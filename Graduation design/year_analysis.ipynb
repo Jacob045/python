{
 "metadata": {
  "language_info": {
   "codemirror_mode": {
    "name": "ipython",
    "version": 3
   },
   "file_extension": ".py",
   "mimetype": "text/x-python",
   "name": "python",
   "nbconvert_exporter": "python",
   "pygments_lexer": "ipython3",
   "version": "3.8.5-final"
  },
  "orig_nbformat": 2,
  "kernelspec": {
   "name": "python3",
   "display_name": "Python 3",
   "language": "python"
  }
 },
 "nbformat": 4,
 "nbformat_minor": 2,
 "cells": [
  {
   "source": [
    "# 年际分析图\n",
    "- 横轴选择时间（每日两个观测点世界时00时和12时）\n",
    "- 纵轴选择标准等压面（包括1000、850、700、500、400、300、250、200、150、100、70、50、30、20、10hpa层，共计15层）\n",
    "- question 怀俄明数据只有标准气压层对应的高度和温度数据，无其他气象数据"
   ],
   "cell_type": "markdown",
   "metadata": {}
  },
  {
   "cell_type": "code",
   "execution_count": 1,
   "metadata": {},
   "outputs": [],
   "source": [
    "import pandas as pd"
   ]
  },
  {
   "cell_type": "code",
   "execution_count": 2,
   "metadata": {},
   "outputs": [
    {
     "output_type": "execute_result",
     "data": {
      "text/plain": [
       "   Year Month  Day  Time  100  200  300  500  700  1000  1500  2000  2500  \\\n",
       "0  1989   JAN    1     0    0 -477 -507 -583 -621  -637  -551  -541  -541   \n",
       "1  1989   JAN    1    12    0    0 -479 -523 -625  -611  -571  -559  -543   \n",
       "2  1989   JAN    2     0    0    0    0    0    0     0     0     0  -569   \n",
       "3  1989   JAN    2    12    0    0 -503 -547 -629  -615  -541  -591  -541   \n",
       "4  1989   JAN    3     0    0    0 -523 -585 -617  -601  -559  -575  -595   \n",
       "5  1989   JAN    3    12    0 -475 -521 -563 -593  -587  -559  -559  -595   \n",
       "6  1989   JAN    4     0    0 -469 -529 -597 -629  -597  -563  -565  -569   \n",
       "7  1989   JAN    4    12    0 -497 -525 -583 -593  -571  -551  -555  -555   \n",
       "8  1989   JAN    5     0    0 -521 -569 -589 -597  -591  -543  -527  -511   \n",
       "9  1989   JAN    5    12    0 -515 -567 -581 -643  -619  -521  -473  -515   \n",
       "\n",
       "   3000  4000  5000  7000  8500  10000  \n",
       "0  -481  -339  -270  -137     0      0  \n",
       "1  -465  -335  -197    10     0      0  \n",
       "2  -481  -327  -201  -133     0      0  \n",
       "3  -469  -307  -175    16     0      0  \n",
       "4  -495  -317  -179  -115     0      0  \n",
       "5  -485  -315  -185   -19     0      0  \n",
       "6  -525  -353  -217  -119     0      0  \n",
       "7  -493  -335  -195   -15     0      0  \n",
       "8  -465  -353  -219   -85     0      0  \n",
       "9  -481  -331  -215   -29     0      0  "
      ],
      "text/html": "<div>\n<style scoped>\n    .dataframe tbody tr th:only-of-type {\n        vertical-align: middle;\n    }\n\n    .dataframe tbody tr th {\n        vertical-align: top;\n    }\n\n    .dataframe thead th {\n        text-align: right;\n    }\n</style>\n<table border=\"1\" class=\"dataframe\">\n  <thead>\n    <tr style=\"text-align: right;\">\n      <th></th>\n      <th>Year</th>\n      <th>Month</th>\n      <th>Day</th>\n      <th>Time</th>\n      <th>100</th>\n      <th>200</th>\n      <th>300</th>\n      <th>500</th>\n      <th>700</th>\n      <th>1000</th>\n      <th>1500</th>\n      <th>2000</th>\n      <th>2500</th>\n      <th>3000</th>\n      <th>4000</th>\n      <th>5000</th>\n      <th>7000</th>\n      <th>8500</th>\n      <th>10000</th>\n    </tr>\n  </thead>\n  <tbody>\n    <tr>\n      <th>0</th>\n      <td>1989</td>\n      <td>JAN</td>\n      <td>1</td>\n      <td>0</td>\n      <td>0</td>\n      <td>-477</td>\n      <td>-507</td>\n      <td>-583</td>\n      <td>-621</td>\n      <td>-637</td>\n      <td>-551</td>\n      <td>-541</td>\n      <td>-541</td>\n      <td>-481</td>\n      <td>-339</td>\n      <td>-270</td>\n      <td>-137</td>\n      <td>0</td>\n      <td>0</td>\n    </tr>\n    <tr>\n      <th>1</th>\n      <td>1989</td>\n      <td>JAN</td>\n      <td>1</td>\n      <td>12</td>\n      <td>0</td>\n      <td>0</td>\n      <td>-479</td>\n      <td>-523</td>\n      <td>-625</td>\n      <td>-611</td>\n      <td>-571</td>\n      <td>-559</td>\n      <td>-543</td>\n      <td>-465</td>\n      <td>-335</td>\n      <td>-197</td>\n      <td>10</td>\n      <td>0</td>\n      <td>0</td>\n    </tr>\n    <tr>\n      <th>2</th>\n      <td>1989</td>\n      <td>JAN</td>\n      <td>2</td>\n      <td>0</td>\n      <td>0</td>\n      <td>0</td>\n      <td>0</td>\n      <td>0</td>\n      <td>0</td>\n      <td>0</td>\n      <td>0</td>\n      <td>0</td>\n      <td>-569</td>\n      <td>-481</td>\n      <td>-327</td>\n      <td>-201</td>\n      <td>-133</td>\n      <td>0</td>\n      <td>0</td>\n    </tr>\n    <tr>\n      <th>3</th>\n      <td>1989</td>\n      <td>JAN</td>\n      <td>2</td>\n      <td>12</td>\n      <td>0</td>\n      <td>0</td>\n      <td>-503</td>\n      <td>-547</td>\n      <td>-629</td>\n      <td>-615</td>\n      <td>-541</td>\n      <td>-591</td>\n      <td>-541</td>\n      <td>-469</td>\n      <td>-307</td>\n      <td>-175</td>\n      <td>16</td>\n      <td>0</td>\n      <td>0</td>\n    </tr>\n    <tr>\n      <th>4</th>\n      <td>1989</td>\n      <td>JAN</td>\n      <td>3</td>\n      <td>0</td>\n      <td>0</td>\n      <td>0</td>\n      <td>-523</td>\n      <td>-585</td>\n      <td>-617</td>\n      <td>-601</td>\n      <td>-559</td>\n      <td>-575</td>\n      <td>-595</td>\n      <td>-495</td>\n      <td>-317</td>\n      <td>-179</td>\n      <td>-115</td>\n      <td>0</td>\n      <td>0</td>\n    </tr>\n    <tr>\n      <th>5</th>\n      <td>1989</td>\n      <td>JAN</td>\n      <td>3</td>\n      <td>12</td>\n      <td>0</td>\n      <td>-475</td>\n      <td>-521</td>\n      <td>-563</td>\n      <td>-593</td>\n      <td>-587</td>\n      <td>-559</td>\n      <td>-559</td>\n      <td>-595</td>\n      <td>-485</td>\n      <td>-315</td>\n      <td>-185</td>\n      <td>-19</td>\n      <td>0</td>\n      <td>0</td>\n    </tr>\n    <tr>\n      <th>6</th>\n      <td>1989</td>\n      <td>JAN</td>\n      <td>4</td>\n      <td>0</td>\n      <td>0</td>\n      <td>-469</td>\n      <td>-529</td>\n      <td>-597</td>\n      <td>-629</td>\n      <td>-597</td>\n      <td>-563</td>\n      <td>-565</td>\n      <td>-569</td>\n      <td>-525</td>\n      <td>-353</td>\n      <td>-217</td>\n      <td>-119</td>\n      <td>0</td>\n      <td>0</td>\n    </tr>\n    <tr>\n      <th>7</th>\n      <td>1989</td>\n      <td>JAN</td>\n      <td>4</td>\n      <td>12</td>\n      <td>0</td>\n      <td>-497</td>\n      <td>-525</td>\n      <td>-583</td>\n      <td>-593</td>\n      <td>-571</td>\n      <td>-551</td>\n      <td>-555</td>\n      <td>-555</td>\n      <td>-493</td>\n      <td>-335</td>\n      <td>-195</td>\n      <td>-15</td>\n      <td>0</td>\n      <td>0</td>\n    </tr>\n    <tr>\n      <th>8</th>\n      <td>1989</td>\n      <td>JAN</td>\n      <td>5</td>\n      <td>0</td>\n      <td>0</td>\n      <td>-521</td>\n      <td>-569</td>\n      <td>-589</td>\n      <td>-597</td>\n      <td>-591</td>\n      <td>-543</td>\n      <td>-527</td>\n      <td>-511</td>\n      <td>-465</td>\n      <td>-353</td>\n      <td>-219</td>\n      <td>-85</td>\n      <td>0</td>\n      <td>0</td>\n    </tr>\n    <tr>\n      <th>9</th>\n      <td>1989</td>\n      <td>JAN</td>\n      <td>5</td>\n      <td>12</td>\n      <td>0</td>\n      <td>-515</td>\n      <td>-567</td>\n      <td>-581</td>\n      <td>-643</td>\n      <td>-619</td>\n      <td>-521</td>\n      <td>-473</td>\n      <td>-515</td>\n      <td>-481</td>\n      <td>-331</td>\n      <td>-215</td>\n      <td>-29</td>\n      <td>0</td>\n      <td>0</td>\n    </tr>\n  </tbody>\n</table>\n</div>"
     },
     "metadata": {},
     "execution_count": 2
    }
   ],
   "source": [
    "filepath = r'I:\\Data\\Personal Data\\graduation project\\yuzhongzhan\\52983-1989-2021.csv'\n",
    "data = pd.read_csv(filepath)\n",
    "data.head(10)"
   ]
  },
  {
   "cell_type": "code",
   "execution_count": 25,
   "metadata": {},
   "outputs": [
    {
     "output_type": "execute_result",
     "data": {
      "text/plain": [
       "-537"
      ]
     },
     "metadata": {},
     "execution_count": 25
    }
   ],
   "source": [
    "data.iloc[12806,6]"
   ]
  },
  {
   "cell_type": "code",
   "execution_count": 26,
   "metadata": {},
   "outputs": [
    {
     "output_type": "execute_result",
     "data": {
      "text/plain": [
       "True"
      ]
     },
     "metadata": {},
     "execution_count": 26
    }
   ],
   "source": [
    "bool(data.iloc[12806,6])"
   ]
  },
  {
   "cell_type": "code",
   "execution_count": 32,
   "metadata": {},
   "outputs": [
    {
     "output_type": "execute_result",
     "data": {
      "text/plain": [
       "Year     22232\n",
       "Month    22232\n",
       "Day      22232\n",
       "Time     11098\n",
       "100       4098\n",
       "200      16123\n",
       "300      18506\n",
       "500      19930\n",
       "700      20508\n",
       "1000     21229\n",
       "1500     21718\n",
       "2000     21885\n",
       "2500     22013\n",
       "3000     22071\n",
       "4000     22101\n",
       "5000     22143\n",
       "7000     21994\n",
       "8500         5\n",
       "10000       12\n",
       "dtype: int64"
      ]
     },
     "metadata": {},
     "execution_count": 32
    }
   ],
   "source": [
    "data.astype(bool).sum(axis=0) #astype将数据转换成bool型，然后按列(axis=0)相加"
   ]
  },
  {
   "cell_type": "code",
   "execution_count": 30,
   "metadata": {},
   "outputs": [
    {
     "output_type": "stream",
     "name": "stdout",
     "text": [
      "Help on method astype in module pandas.core.generic:\n\nastype(dtype, copy: 'bool_t' = True, errors: 'str' = 'raise') -> 'FrameOrSeries' method of pandas.core.frame.DataFrame instance\n    Cast a pandas object to a specified dtype ``dtype``.\n    \n    Parameters\n    ----------\n    dtype : data type, or dict of column name -> data type\n        Use a numpy.dtype or Python type to cast entire pandas object to\n        the same type. Alternatively, use {col: dtype, ...}, where col is a\n        column label and dtype is a numpy.dtype or Python type to cast one\n        or more of the DataFrame's columns to column-specific types.\n    copy : bool, default True\n        Return a copy when ``copy=True`` (be very careful setting\n        ``copy=False`` as changes to values then may propagate to other\n        pandas objects).\n    errors : {'raise', 'ignore'}, default 'raise'\n        Control raising of exceptions on invalid data for provided dtype.\n    \n        - ``raise`` : allow exceptions to be raised\n        - ``ignore`` : suppress exceptions. On error return original object.\n    \n    Returns\n    -------\n    casted : same type as caller\n    \n    See Also\n    --------\n    to_datetime : Convert argument to datetime.\n    to_timedelta : Convert argument to timedelta.\n    to_numeric : Convert argument to a numeric type.\n    numpy.ndarray.astype : Cast a numpy array to a specified type.\n    \n    Examples\n    --------\n    Create a DataFrame:\n    \n    >>> d = {'col1': [1, 2], 'col2': [3, 4]}\n    >>> df = pd.DataFrame(data=d)\n    >>> df.dtypes\n    col1    int64\n    col2    int64\n    dtype: object\n    \n    Cast all columns to int32:\n    \n    >>> df.astype('int32').dtypes\n    col1    int32\n    col2    int32\n    dtype: object\n    \n    Cast col1 to int32 using a dictionary:\n    \n    >>> df.astype({'col1': 'int32'}).dtypes\n    col1    int32\n    col2    int64\n    dtype: object\n    \n    Create a series:\n    \n    >>> ser = pd.Series([1, 2], dtype='int32')\n    >>> ser\n    0    1\n    1    2\n    dtype: int32\n    >>> ser.astype('int64')\n    0    1\n    1    2\n    dtype: int64\n    \n    Convert to categorical type:\n    \n    >>> ser.astype('category')\n    0    1\n    1    2\n    dtype: category\n    Categories (2, int64): [1, 2]\n    \n    Convert to ordered categorical type with custom ordering:\n    \n    >>> cat_dtype = pd.api.types.CategoricalDtype(\n    ...     categories=[2, 1], ordered=True)\n    >>> ser.astype(cat_dtype)\n    0    1\n    1    2\n    dtype: category\n    Categories (2, int64): [2 < 1]\n    \n    Note that using ``copy=False`` and changing data on a new\n    pandas object may propagate changes:\n    \n    >>> s1 = pd.Series([1, 2])\n    >>> s2 = s1.astype('int64', copy=False)\n    >>> s2[0] = 10\n    >>> s1  # note that s1[0] has changed too\n    0    10\n    1     2\n    dtype: int64\n    \n    Create a series of dates:\n    \n    >>> ser_date = pd.Series(pd.date_range('20200101', periods=3))\n    >>> ser_date\n    0   2020-01-01\n    1   2020-01-02\n    2   2020-01-03\n    dtype: datetime64[ns]\n    \n    Datetimes are localized to UTC first before\n    converting to the specified timezone:\n    \n    >>> ser_date.astype('datetime64[ns, US/Eastern]')\n    0   2019-12-31 19:00:00-05:00\n    1   2020-01-01 19:00:00-05:00\n    2   2020-01-02 19:00:00-05:00\n    dtype: datetime64[ns, US/Eastern]\n\n"
     ]
    }
   ],
   "source": [
    "help(data.astype)"
   ]
  }
 ]
}