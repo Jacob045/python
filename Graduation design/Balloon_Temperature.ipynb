{
 "metadata": {
  "language_info": {
   "codemirror_mode": {
    "name": "ipython",
    "version": 3
   },
   "file_extension": ".py",
   "mimetype": "text/x-python",
   "name": "python",
   "nbconvert_exporter": "python",
   "pygments_lexer": "ipython3",
   "version": "3.8.5-final"
  },
  "orig_nbformat": 2,
  "kernelspec": {
   "name": "python3",
   "display_name": "Python 3.8.5 64-bit (conda)",
   "metadata": {
    "interpreter": {
     "hash": "07efdcd4b820c98a756949507a4d29d7862823915ec7477944641bea022f4f62"
    }
   }
  }
 },
 "nbformat": 4,
 "nbformat_minor": 2,
 "cells": [
  {
   "cell_type": "code",
   "execution_count": 1,
   "metadata": {},
   "outputs": [
    {
     "output_type": "stream",
     "name": "stdout",
     "text": [
      "I:\\Data\\Personal Data\\graduation project\\SACOL\\Balloon\\2008\n"
     ]
    }
   ],
   "source": [
    "'''\n",
    "    本程序将IDL程序处理得到的大气温度信息做进一步处理\n",
    "    IDL程序处理后得到的数据按照每个月一个txt文档的格式\n",
    "    本程序是是将txt文档装换为csv文档，并详细标注每组数据时间\n",
    "    所有产生的csv文件全部放到.\\Balloon\\Temperature 文件夹下，不按照年份分文件夹\n",
    "    探空气球只会在世界时的00时和12时放飞\n",
    "    北京时 = 世界时 + 8\n",
    "'''\n",
    "import pandas as pd \n",
    "import os\n",
    "import read_filepath_module\n",
    "Year = '2008'\n",
    "Level_1_path = 'I:\\Data\\Personal Data\\graduation project\\SACOL\\Balloon\\\\' + Year\n",
    "Target_str = 'sounding_data'\n",
    "Output_paths = read_filepath_module.read_filepath(Level_1_path,Target_str)\n",
    "print(Level_1_path)"
   ]
  },
  {
   "cell_type": "code",
   "execution_count": null,
   "metadata": {},
   "outputs": [],
   "source": [
    "def modify_index(filepath):\n",
    "    data = pd.read_csv(Output_path,sep=',',encoding = \"UTF-8\")\n",
    "    # print(data)\n",
    "    i = 0\n",
    "    while i<data.shape[0]: \n",
    "        str11 = str(data.loc[i:i,'Time'].values)\n",
    "        # print('str11',str11)\n",
    "        data.loc[i:i,'Time'] = str11[1:9] + '_WT' + str11[9:11] + '00'\n",
    "        # print(\"data.loc[i:i,'Time']\",data.loc[i:i,'Time'],'\\n')\n",
    "        i = i + 1\n",
    "    return(data)"
   ]
  },
  {
   "cell_type": "code",
   "execution_count": null,
   "metadata": {
    "tags": []
   },
   "outputs": [],
   "source": [
    "if(os.path.exists(Output_paths[0][0:55]+'Temperature') == False):\n",
    "    os.mkdir(Output_paths[0][0:55]+'Temperature')\n",
    "for Output_path in Output_paths:\n",
    "    Output = modify_index(Output_path)\n",
    "    filename = Output_paths[0][0:55]+'Temperature' + '\\Balloon_Temperature' + Output_path[95:101] + '.csv'\n",
    "    print(filename)\n",
    "    Output.to_csv(filename,index=0)"
   ]
  },
  {
   "cell_type": "code",
   "execution_count": null,
   "metadata": {},
   "outputs": [],
   "source": []
  }
 ]
}