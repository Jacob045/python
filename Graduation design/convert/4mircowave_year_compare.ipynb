{
 "metadata": {
  "language_info": {
   "codemirror_mode": {
    "name": "ipython",
    "version": 3
   },
   "file_extension": ".py",
   "mimetype": "text/x-python",
   "name": "python",
   "nbconvert_exporter": "python",
   "pygments_lexer": "ipython3",
   "version": "3.8.5-final"
  },
  "orig_nbformat": 2,
  "kernelspec": {
   "name": "python3",
   "display_name": "Python 3.8.5 64-bit (conda)",
   "metadata": {
    "interpreter": {
     "hash": "07efdcd4b820c98a756949507a4d29d7862823915ec7477944641bea022f4f62"
    }
   }
  }
 },
 "nbformat": 4,
 "nbformat_minor": 2,
 "cells": [
  {
   "cell_type": "code",
   "execution_count": null,
   "metadata": {},
   "outputs": [],
   "source": [
    "import pandas as pd\n",
    "import matplotlib.pyplot as plt\n",
    "import numpy as np\n",
    "import os\n",
    "import read_filepath_module"
   ]
  },
  {
   "cell_type": "code",
   "execution_count": null,
   "metadata": {},
   "outputs": [],
   "source": [
    "dirpath = r'I:\\Data\\Personal Data\\graduation project\\SACOL\\microwave'\n",
    "target_str = 'lv1'\n",
    "paths = read_filepath_module.read_filepath(dirpath,target_str)"
   ]
  },
  {
   "cell_type": "code",
   "execution_count": null,
   "metadata": {},
   "outputs": [],
   "source": [
    "# 季节变化\n",
    "test = []\n",
    "for path in paths:\n",
    "    if(path[57:61] == '2009'):\n",
    "        test.append(path)\n",
    "paths = test"
   ]
  },
  {
   "cell_type": "code",
   "execution_count": null,
   "metadata": {},
   "outputs": [],
   "source": [
    "drawing_data = pd.DataFrame()\n",
    "for path in paths:\n",
    "    mircowave_lv1_data = pd.read_csv(path,index_col='Record')\n",
    "    # print(path)\n",
    "    # print(mircowave_lv1_data.columns)\n",
    "    point_columns = [' 22.235',' 23.035',' 23.835',' 26.235',' 30.000',' 51.250',' 52.280',' 53.850',' 54.940',' 56.660',' 57.290',' 58.800']\n",
    "    drawing_data[path[69:79]] = mircowave_lv1_data[point_columns]\n",
    "    # .mean(0)"
   ]
  },
  {
   "cell_type": "code",
   "execution_count": null,
   "metadata": {},
   "outputs": [],
   "source": [
    "plt.rcParams['figure.figsize'] = (30,20)\n",
    "for fre in range(drawing_data.shape[0]):\n",
    "    data_for_print = np.array(drawing_data.iloc[fre,:])\n",
    "    plt.plot(data_for_print,label=drawing_data.index[fre])\n",
    "# 启动图例\n",
    "plt.legend()\n",
    "# 设置x轴刻度\n",
    "flag = 0\n",
    "x_ticks =[]\n",
    "x_labels = []\n",
    "for i in range(drawing_data.shape[1]):\n",
    "    target = drawing_data.columns[i][0:7]\n",
    "    if(flag != target):\n",
    "        flag = target\n",
    "        x_ticks.append(i)\n",
    "        x_labels.append(target)\n",
    "plt.xticks(x_ticks,x_labels)\n",
    "plt.show()"
   ]
  },
  {
   "cell_type": "code",
   "execution_count": null,
   "metadata": {},
   "outputs": [],
   "source": []
  }
 ]
}