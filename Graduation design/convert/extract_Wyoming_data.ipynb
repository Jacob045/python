{
 "metadata": {
  "language_info": {
   "codemirror_mode": {
    "name": "ipython",
    "version": 3
   },
   "file_extension": ".py",
   "mimetype": "text/x-python",
   "name": "python",
   "nbconvert_exporter": "python",
   "pygments_lexer": "ipython3",
   "version": "3.8.5-final"
  },
  "orig_nbformat": 2,
  "kernelspec": {
   "name": "python3",
   "display_name": "Python 3.8.5 64-bit (conda)",
   "metadata": {
    "interpreter": {
     "hash": "07efdcd4b820c98a756949507a4d29d7862823915ec7477944641bea022f4f62"
    }
   }
  }
 },
 "nbformat": 4,
 "nbformat_minor": 2,
 "cells": [
  {
   "cell_type": "code",
   "execution_count": 1,
   "metadata": {},
   "outputs": [],
   "source": [
    "import pandas as pd\n",
    "from tqdm import tqdm"
   ]
  },
  {
   "source": [
    "### extacat_Wyoming_data.ipynb\n",
    "- 怀俄明数据存放在.FSL文件中，不便于读取\n",
    "- 将.FSL文件中数据提取出来，写入一个.CSV文件\n",
    "- .CSV文件每一个时间占据一行，columns分别为观测时间'Time'，和标准气压层的温度"
   ],
   "cell_type": "markdown",
   "metadata": {}
  },
  {
   "cell_type": "code",
   "execution_count": 2,
   "metadata": {},
   "outputs": [
    {
     "output_type": "execute_result",
     "data": {
      "text/plain": [
       "     0      1      2      3      4        5        6\n",
       "0  254      0      1    JAN   1989      NaN      NaN\n",
       "1    1  52983  52983    34N   109E      0.0   2303.0\n",
       "2    2    500    500    500     22  99999.0      3.0\n",
       "3    3   HAKJ  99999     ms    NaN      NaN      NaN\n",
       "4    9  10000  -2691  99999  99999  99999.0  99999.0\n",
       "5    4   8500  -1461  99999  99999  99999.0  99999.0\n",
       "6    4   7160      0   -145   -170      0.0      0.0\n",
       "7    4   7000    172   -137   -164    340.0     10.0\n",
       "8    4   5000   2740   -270   -330    270.0    154.0\n",
       "9    4   4000   4350   -339   -409    275.0    195.0"
      ],
      "text/html": "<div>\n<style scoped>\n    .dataframe tbody tr th:only-of-type {\n        vertical-align: middle;\n    }\n\n    .dataframe tbody tr th {\n        vertical-align: top;\n    }\n\n    .dataframe thead th {\n        text-align: right;\n    }\n</style>\n<table border=\"1\" class=\"dataframe\">\n  <thead>\n    <tr style=\"text-align: right;\">\n      <th></th>\n      <th>0</th>\n      <th>1</th>\n      <th>2</th>\n      <th>3</th>\n      <th>4</th>\n      <th>5</th>\n      <th>6</th>\n    </tr>\n  </thead>\n  <tbody>\n    <tr>\n      <th>0</th>\n      <td>254</td>\n      <td>0</td>\n      <td>1</td>\n      <td>JAN</td>\n      <td>1989</td>\n      <td>NaN</td>\n      <td>NaN</td>\n    </tr>\n    <tr>\n      <th>1</th>\n      <td>1</td>\n      <td>52983</td>\n      <td>52983</td>\n      <td>34N</td>\n      <td>109E</td>\n      <td>0.0</td>\n      <td>2303.0</td>\n    </tr>\n    <tr>\n      <th>2</th>\n      <td>2</td>\n      <td>500</td>\n      <td>500</td>\n      <td>500</td>\n      <td>22</td>\n      <td>99999.0</td>\n      <td>3.0</td>\n    </tr>\n    <tr>\n      <th>3</th>\n      <td>3</td>\n      <td>HAKJ</td>\n      <td>99999</td>\n      <td>ms</td>\n      <td>NaN</td>\n      <td>NaN</td>\n      <td>NaN</td>\n    </tr>\n    <tr>\n      <th>4</th>\n      <td>9</td>\n      <td>10000</td>\n      <td>-2691</td>\n      <td>99999</td>\n      <td>99999</td>\n      <td>99999.0</td>\n      <td>99999.0</td>\n    </tr>\n    <tr>\n      <th>5</th>\n      <td>4</td>\n      <td>8500</td>\n      <td>-1461</td>\n      <td>99999</td>\n      <td>99999</td>\n      <td>99999.0</td>\n      <td>99999.0</td>\n    </tr>\n    <tr>\n      <th>6</th>\n      <td>4</td>\n      <td>7160</td>\n      <td>0</td>\n      <td>-145</td>\n      <td>-170</td>\n      <td>0.0</td>\n      <td>0.0</td>\n    </tr>\n    <tr>\n      <th>7</th>\n      <td>4</td>\n      <td>7000</td>\n      <td>172</td>\n      <td>-137</td>\n      <td>-164</td>\n      <td>340.0</td>\n      <td>10.0</td>\n    </tr>\n    <tr>\n      <th>8</th>\n      <td>4</td>\n      <td>5000</td>\n      <td>2740</td>\n      <td>-270</td>\n      <td>-330</td>\n      <td>270.0</td>\n      <td>154.0</td>\n    </tr>\n    <tr>\n      <th>9</th>\n      <td>4</td>\n      <td>4000</td>\n      <td>4350</td>\n      <td>-339</td>\n      <td>-409</td>\n      <td>275.0</td>\n      <td>195.0</td>\n    </tr>\n  </tbody>\n</table>\n</div>"
     },
     "metadata": {},
     "execution_count": 2
    }
   ],
   "source": [
    "fileptah = r'I:\\Data\\Personal Data\\graduation project\\yuzhongzhan\\52983-1989-2021.FSL' \n",
    "data = pd.read_table(fileptah,sep='\\s+',names=['0','1','2','3','4','5','6'])\n",
    "data.head(10)"
   ]
  },
  {
   "cell_type": "code",
   "execution_count": 3,
   "metadata": {},
   "outputs": [],
   "source": [
    "standrad_hpa = ['Year','Month','Day','Time',100,200,300,500,700,1000,1500,2000,2500,3000,4000,5000,7000,8500,10000]\n",
    "year_data = pd.DataFrame(columns=standrad_hpa)"
   ]
  },
  {
   "cell_type": "code",
   "execution_count": 4,
   "metadata": {},
   "outputs": [
    {
     "output_type": "stream",
     "name": "stderr",
     "text": [
      "100%|██████████| 30/30 [00:00<00:00, 555.76it/s]\n"
     ]
    }
   ],
   "source": [
    "template = {'Year':0,'Month':0,'Day':0,'Time':0,100:0,200:0,300:0,500:0,700:0,1000:0,1500:0,2000:0,2500:0,3000:0,4000:0,5000:0,7000:0,8500:0,10000:0}\n",
    "row = 0\n",
    "for row in tqdm(range(30)):\n",
    "    if(data.iloc[row,0]==254):\n",
    "        year_data = year_data.append([template],ignore_index=True) # 上传上一轮的修改结果\n",
    "        template = {'Year':0,'Month':0,'Day':0,'Time':0,100:0,200:0,300:0,500:0,700:0,1000:0,1500:0,2000:0,2500:0,3000:0,4000:0,5000:0,7000:0,8500:0,10000:0}\n",
    "        template['Year'] = data.iloc[row,4]\n",
    "        template['Month'] = data.iloc[row,3]\n",
    "        template['Day'] = data.iloc[row,2]\n",
    "        template['Time'] = data.iloc[row,1]\n",
    "    if((data.iloc[row,0]==4)and(int(data.iloc[row,1])in standrad_hpa)):\n",
    "        if(data.iloc[row,3] != '99999'):\n",
    "            # 过滤缺失数据'99999'\n",
    "            template[int(data.iloc[row,1])] = int(data.iloc[row,3])\n",
    "    if((data.iloc[row,0]==9)and(int(data.iloc[row,1])in standrad_hpa)):\n",
    "        if(data.iloc[row,3] != '99999'):\n",
    "            # 过滤缺失数据'99999'\n",
    "            template[int(data.iloc[row,1])] = int(data.iloc[row,3])"
   ]
  },
  {
   "cell_type": "code",
   "execution_count": 5,
   "metadata": {},
   "outputs": [],
   "source": [
    "# year_data.drop(0,axis=0,inplace=True)\n",
    "# year_data.to_csv(r'I:\\Data\\Personal Data\\graduation project\\yuzhongzhan\\52983-1989-2021.csv',index=0)"
   ]
  },
  {
   "cell_type": "code",
   "execution_count": null,
   "metadata": {},
   "outputs": [],
   "source": []
  }
 ]
}