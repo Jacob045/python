{
 "metadata": {
  "language_info": {
   "codemirror_mode": {
    "name": "ipython",
    "version": 3
   },
   "file_extension": ".py",
   "mimetype": "text/x-python",
   "name": "python",
   "nbconvert_exporter": "python",
   "pygments_lexer": "ipython3",
   "version": "3.8.5-final"
  },
  "orig_nbformat": 2,
  "kernelspec": {
   "name": "python3",
   "display_name": "Python 3.8.5 64-bit (conda)",
   "metadata": {
    "interpreter": {
     "hash": "07efdcd4b820c98a756949507a4d29d7862823915ec7477944641bea022f4f62"
    }
   }
  }
 },
 "nbformat": 4,
 "nbformat_minor": 2,
 "cells": [
  {
   "cell_type": "code",
   "execution_count": 2,
   "metadata": {},
   "outputs": [],
   "source": [
    "import pandas as pd\n",
    "\n",
    "fileptah = r'I:\\Data\\Personal Data\\graduation project\\yuzhongzhan\\52983-1989-2021.FSL' "
   ]
  },
  {
   "cell_type": "code",
   "execution_count": 3,
   "metadata": {},
   "outputs": [
    {
     "output_type": "execute_result",
     "data": {
      "text/plain": [
       "     0      1      2      3      4        5        6\n",
       "0  254      0      1    JAN   1989      NaN      NaN\n",
       "1    1  52983  52983    34N   109E      0.0   2303.0\n",
       "2    2    500    500    500     22  99999.0      3.0\n",
       "3    3   HAKJ  99999     ms    NaN      NaN      NaN\n",
       "4    9  10000  -2691  99999  99999  99999.0  99999.0\n",
       "5    4   8500  -1461  99999  99999  99999.0  99999.0\n",
       "6    4   7160      0   -145   -170      0.0      0.0\n",
       "7    4   7000    172   -137   -164    340.0     10.0\n",
       "8    4   5000   2740   -270   -330    270.0    154.0\n",
       "9    4   4000   4350   -339   -409    275.0    195.0"
      ],
      "text/html": "<div>\n<style scoped>\n    .dataframe tbody tr th:only-of-type {\n        vertical-align: middle;\n    }\n\n    .dataframe tbody tr th {\n        vertical-align: top;\n    }\n\n    .dataframe thead th {\n        text-align: right;\n    }\n</style>\n<table border=\"1\" class=\"dataframe\">\n  <thead>\n    <tr style=\"text-align: right;\">\n      <th></th>\n      <th>0</th>\n      <th>1</th>\n      <th>2</th>\n      <th>3</th>\n      <th>4</th>\n      <th>5</th>\n      <th>6</th>\n    </tr>\n  </thead>\n  <tbody>\n    <tr>\n      <th>0</th>\n      <td>254</td>\n      <td>0</td>\n      <td>1</td>\n      <td>JAN</td>\n      <td>1989</td>\n      <td>NaN</td>\n      <td>NaN</td>\n    </tr>\n    <tr>\n      <th>1</th>\n      <td>1</td>\n      <td>52983</td>\n      <td>52983</td>\n      <td>34N</td>\n      <td>109E</td>\n      <td>0.0</td>\n      <td>2303.0</td>\n    </tr>\n    <tr>\n      <th>2</th>\n      <td>2</td>\n      <td>500</td>\n      <td>500</td>\n      <td>500</td>\n      <td>22</td>\n      <td>99999.0</td>\n      <td>3.0</td>\n    </tr>\n    <tr>\n      <th>3</th>\n      <td>3</td>\n      <td>HAKJ</td>\n      <td>99999</td>\n      <td>ms</td>\n      <td>NaN</td>\n      <td>NaN</td>\n      <td>NaN</td>\n    </tr>\n    <tr>\n      <th>4</th>\n      <td>9</td>\n      <td>10000</td>\n      <td>-2691</td>\n      <td>99999</td>\n      <td>99999</td>\n      <td>99999.0</td>\n      <td>99999.0</td>\n    </tr>\n    <tr>\n      <th>5</th>\n      <td>4</td>\n      <td>8500</td>\n      <td>-1461</td>\n      <td>99999</td>\n      <td>99999</td>\n      <td>99999.0</td>\n      <td>99999.0</td>\n    </tr>\n    <tr>\n      <th>6</th>\n      <td>4</td>\n      <td>7160</td>\n      <td>0</td>\n      <td>-145</td>\n      <td>-170</td>\n      <td>0.0</td>\n      <td>0.0</td>\n    </tr>\n    <tr>\n      <th>7</th>\n      <td>4</td>\n      <td>7000</td>\n      <td>172</td>\n      <td>-137</td>\n      <td>-164</td>\n      <td>340.0</td>\n      <td>10.0</td>\n    </tr>\n    <tr>\n      <th>8</th>\n      <td>4</td>\n      <td>5000</td>\n      <td>2740</td>\n      <td>-270</td>\n      <td>-330</td>\n      <td>270.0</td>\n      <td>154.0</td>\n    </tr>\n    <tr>\n      <th>9</th>\n      <td>4</td>\n      <td>4000</td>\n      <td>4350</td>\n      <td>-339</td>\n      <td>-409</td>\n      <td>275.0</td>\n      <td>195.0</td>\n    </tr>\n  </tbody>\n</table>\n</div>"
     },
     "metadata": {},
     "execution_count": 3
    }
   ],
   "source": [
    "data = pd.read_table(fileptah,sep='\\s+',names=['0','1','2','3','4','5','6'])\n",
    "data.head(10)"
   ]
  },
  {
   "cell_type": "code",
   "execution_count": 11,
   "metadata": {},
   "outputs": [
    {
     "output_type": "stream",
     "name": "stdout",
     "text": [
      "0     254\n1      12\n2       3\n3     FEB\n4    1989\n5     NaN\n6     NaN\nName: 1314, dtype: object\n0     254\n1       0\n2       4\n3     FEB\n4    1989\n5     NaN\n6     NaN\nName: 1336, dtype: object\n0     254\n1      12\n2       4\n3     FEB\n4    1989\n5     NaN\n6     NaN\nName: 1357, dtype: object\n0     254\n1       0\n2       5\n3     FEB\n4    1989\n5     NaN\n6     NaN\nName: 1378, dtype: object\n0     254\n1      12\n2       5\n3     FEB\n4    1989\n5     NaN\n6     NaN\nName: 1397, dtype: object\n0     254\n1       0\n2       6\n3     FEB\n4    1989\n5     NaN\n6     NaN\nName: 1418, dtype: object\n0     254\n1      12\n2       6\n3     FEB\n4    1989\n5     NaN\n6     NaN\nName: 1441, dtype: object\n0     254\n1       0\n2       7\n3     FEB\n4    1989\n5     NaN\n6     NaN\nName: 1463, dtype: object\n0     254\n1      12\n2       7\n3     FEB\n4    1989\n5     NaN\n6     NaN\nName: 1484, dtype: object\n0     254\n1       0\n2       8\n3     FEB\n4    1989\n5     NaN\n6     NaN\nName: 1505, dtype: object\n0     254\n1      12\n2       8\n3     FEB\n4    1989\n5     NaN\n6     NaN\nName: 1527, dtype: object\n0     254\n1       0\n2       9\n3     FEB\n4    1989\n5     NaN\n6     NaN\nName: 1548, dtype: object\n0     254\n1      12\n2       9\n3     FEB\n4    1989\n5     NaN\n6     NaN\nName: 1568, dtype: object\n0     254\n1       0\n2      10\n3     FEB\n4    1989\n5     NaN\n6     NaN\nName: 1590, dtype: object\n0     254\n1      12\n2      10\n3     FEB\n4    1989\n5     NaN\n6     NaN\nName: 1611, dtype: object\n0     254\n1      18\n2      10\n3     FEB\n4    1989\n5     NaN\n6     NaN\nName: 1627, dtype: object\n0     254\n1       0\n2      11\n3     FEB\n4    1989\n5     NaN\n6     NaN\nName: 1643, dtype: object\n0     254\n1      12\n2      11\n3     FEB\n4    1989\n5     NaN\n6     NaN\nName: 1664, dtype: object\n0     254\n1       0\n2      12\n3     FEB\n4    1989\n5     NaN\n6     NaN\nName: 1685, dtype: object\n0     254\n1      12\n2      12\n3     FEB\n4    1989\n5     NaN\n6     NaN\nName: 1704, dtype: object\n0     254\n1       0\n2      13\n3     FEB\n4    1989\n5     NaN\n6     NaN\nName: 1726, dtype: object\n0     254\n1      12\n2      13\n3     FEB\n4    1989\n5     NaN\n6     NaN\nName: 1747, dtype: object\n0     254\n1       0\n2      14\n3     FEB\n4    1989\n5     NaN\n6     NaN\nName: 1770, dtype: object\n0     254\n1      12\n2      14\n3     FEB\n4    1989\n5     NaN\n6     NaN\nName: 1790, dtype: object\n0     254\n1       0\n2      15\n3     FEB\n4    1989\n5     NaN\n6     NaN\nName: 1812, dtype: object\n0     254\n1      12\n2      15\n3     FEB\n4    1989\n5     NaN\n6     NaN\nName: 1831, dtype: object\n0     254\n1       0\n2      16\n3     FEB\n4    1989\n5     NaN\n6     NaN\nName: 1852, dtype: object\n0     254\n1      12\n2      16\n3     FEB\n4    1989\n5     NaN\n6     NaN\nName: 1873, dtype: object\n0     254\n1       0\n2      17\n3     FEB\n4    1989\n5     NaN\n6     NaN\nName: 1894, dtype: object\n"
     ]
    }
   ],
   "source": [
    "row = 0\n",
    "while row <900:\n",
    "    if(data.iloc[row,0] == 254):\n",
    "        # 查找对应的年份\n",
    "        print(data.iloc[row,])\n",
    "    row = row + 1"
   ]
  },
  {
   "cell_type": "code",
   "execution_count": null,
   "metadata": {},
   "outputs": [],
   "source": []
  }
 ]
}